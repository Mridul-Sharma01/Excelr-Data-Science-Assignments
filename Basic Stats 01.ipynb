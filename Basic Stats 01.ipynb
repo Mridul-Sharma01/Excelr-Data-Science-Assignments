{
 "cells": [
  {
   "cell_type": "code",
   "execution_count": 3,
   "id": "1e4e21ee",
   "metadata": {
    "ExecuteTime": {
     "end_time": "2022-03-02T15:32:21.078882Z",
     "start_time": "2022-03-02T15:32:21.054876Z"
    }
   },
   "outputs": [],
   "source": [
    "#Q1) Identify the Data type for the Following:\n",
    "#Activity                                 Data Type\n",
    "#Number of beatings from Wife             Interval\n",
    "#Results of rolling a dice                Interval\n",
    "#Weight of a person                       Ratio\n",
    "#Weight of Gold                           Ratio\n",
    "#Distance between two places              Ratio\n",
    "#Length of a leaf                         Ratio\n",
    "#Dog's weight                             Ratio\n",
    "#Blue Color                               Nominal\n",
    "#Number of kids                           Interval\n",
    "#Number of tickets in Indian railways     Interval\n",
    "#Number of times married                  Nominal\n",
    "#Gender (Male or Female)                  Nominal\n"
   ]
  },
  {
   "cell_type": "code",
   "execution_count": null,
   "id": "5e34d40a",
   "metadata": {},
   "outputs": [],
   "source": [
    "#Q2) Identify the Data types, which were among the following\n",
    "#Nominal, Ordinal, Interval, Ratio.\n",
    "\n",
    "#Data                                Data Type\n",
    "#Gender                              Nominal\n",
    "#High School Class Ranking           Ordinal\n",
    "#Celsius Temperature                 Interval\n",
    "#Weight                              Interval\n",
    "#Hair Color                          Nominal\n",
    "#Socioeconomic Status                Interval\n",
    "#Fahrenheit Temperature              Interval\n",
    "#Height                              Interval\n",
    "#Type of living accommodation        Nominal\n",
    "#Level of Agreement                  Ordinal\n",
    "#IQ(Intelligence Scale)              Ordinal\n",
    "#Sales Figures                       Ratio\n",
    "#Blood Group                         Nominal\n",
    "#Time Of Day                         Interval\n",
    "#Time on a Clock with Hands          Interval\n",
    "#Number of Children                  Interval\n",
    "#Religious Preference                Nominal\n",
    "#Barometer Pressure                  Ratio\n",
    "#SAT Scores                          Ordinal\n",
    "#Years of Education                  Ordinal\n"
   ]
  },
  {
   "cell_type": "code",
   "execution_count": null,
   "id": "ab3fc5f3",
   "metadata": {},
   "outputs": [],
   "source": [
    "#Q3) Three Coins are tossed, find the probability that two heads and one tail are obtained?\n",
    "#Ans. P=3/7"
   ]
  },
  {
   "cell_type": "code",
   "execution_count": null,
   "id": "c87648ef",
   "metadata": {},
   "outputs": [],
   "source": [
    "#Q4)  Two Dice are rolled, find the probability that sum is\n",
    "   # a) Equal to 1\n",
    "   # b) Less than or equal to 4\n",
    "   # c) Sum is divisible by 2 and  3\n",
    "\n",
    "#Ans. a- P=1/6\n",
    "      #  b- P=8/12\n",
    "      #  c- P=2/12"
   ]
  },
  {
   "cell_type": "code",
   "execution_count": null,
   "id": "fc8551be",
   "metadata": {},
   "outputs": [],
   "source": [
    "#Q5)  A bag contains 2 red, 3 green and 2 blue balls. Two balls are drawn at random. What is the probability that none of the balls drawn is blue?\n",
    "\n",
    "#Ans. P=5/7"
   ]
  },
  {
   "cell_type": "code",
   "execution_count": null,
   "id": "211a8a6f",
   "metadata": {},
   "outputs": [],
   "source": [
    "#Q6) Calculate the Expected number of candies for a randomly selected child \n",
    "Below are the probabilities of count of candies for children (ignoring the nature of the child-Generalized view)\n",
    "Child A – probability of having 1 candy = 0.015.\n",
    "Child B – probability of having 4 candies = 0.20\n",
    "#Ans. 3\n"
   ]
  },
  {
   "cell_type": "code",
   "execution_count": null,
   "id": "c3090b14",
   "metadata": {},
   "outputs": [],
   "source": [
    "#Q7) Calculate Mean, Median, Mode, Variance, Standard Deviation, Range &     comment about the values / draw inferences, for the given dataset\n",
    "   # • For Points,Score,Weigh>\n",
    "#Find Mean, Median, Mode, Variance, Standard Deviation, and Range and also Comment about the values/ Draw some inferences.\n",
    "mode\t115.09\t102.952\t571.16\n",
    "Median\t3.695\t3.325\t17.71\n",
    "Mode\t3.92\t3.44\t17.02\n",
    "Variance\t0.276947559\t0.927460875\t3.093379688\n",
    "SD\t0.526258072\t0.963047701\t1.758800639\n",
    "RangeMAX Value\t4.93\t5.424\t22.9\n",
    "MIN Value\t2.76\t1.513\t14.5\n",
    "Range---------------\t2.17\t3.911\t8.4\n",
    "Comments\tI can say that Points and score are showing relation to each other whereas the value of Weight is to high in central tendency.\n",
    "\n"
   ]
  },
  {
   "cell_type": "code",
   "execution_count": null,
   "id": "f6b7c236",
   "metadata": {},
   "outputs": [],
   "source": [
    "#Q8) Calculate Expected Value for the problem below\n",
    " #   a) The weights (X) of patients at a clinic (in pounds), are\n",
    "#108, 110, 123, 134, 135, 145, 167, 187, 199\n",
    "#Assume one of the patients is chosen at random. What is the Expected Value of the Weight of that patient?\n",
    "#Ans. 135"
   ]
  },
  {
   "cell_type": "code",
   "execution_count": 1,
   "id": "3882112f",
   "metadata": {
    "ExecuteTime": {
     "end_time": "2022-03-01T09:36:08.304163Z",
     "start_time": "2022-03-01T09:36:08.288163Z"
    }
   },
   "outputs": [],
   "source": [
    "#Q9) Calculate Skewness, Kurtosis & draw inferences on the following data\n",
    " #     Cars speed and distance \n",
    "no =(\"C:\\\\Users\\\\mrmri\\\\Downloads\\\\Assignments Excelr\\\\Basic Statistics Level 01.csv\")"
   ]
  },
  {
   "cell_type": "code",
   "execution_count": 3,
   "id": "1547ecc8",
   "metadata": {
    "ExecuteTime": {
     "end_time": "2022-03-01T09:36:35.425215Z",
     "start_time": "2022-03-01T09:36:35.409174Z"
    }
   },
   "outputs": [],
   "source": [
    "df=no"
   ]
  },
  {
   "cell_type": "code",
   "execution_count": 6,
   "id": "7af5d3ac",
   "metadata": {
    "ExecuteTime": {
     "end_time": "2022-03-02T16:46:09.001559Z",
     "start_time": "2022-03-02T16:46:08.993560Z"
    }
   },
   "outputs": [],
   "source": [
    "import pandas as pd\n",
    "%matplotlib inline"
   ]
  },
  {
   "cell_type": "code",
   "execution_count": 7,
   "id": "776571d4",
   "metadata": {
    "ExecuteTime": {
     "end_time": "2022-03-02T16:46:09.704742Z",
     "start_time": "2022-03-02T16:46:09.653714Z"
    }
   },
   "outputs": [],
   "source": [
    "no = pd.read_csv(\"C:\\\\Users\\\\mrmri\\\\Downloads\\\\Assignments Excelr\\\\Basic Statistics Level 01\\\\Q9_a.csv\")"
   ]
  },
  {
   "cell_type": "code",
   "execution_count": 8,
   "id": "900843cc",
   "metadata": {
    "ExecuteTime": {
     "end_time": "2022-03-02T16:46:10.691987Z",
     "start_time": "2022-03-02T16:46:10.626972Z"
    }
   },
   "outputs": [
    {
     "data": {
      "text/html": [
       "<div>\n",
       "<style scoped>\n",
       "    .dataframe tbody tr th:only-of-type {\n",
       "        vertical-align: middle;\n",
       "    }\n",
       "\n",
       "    .dataframe tbody tr th {\n",
       "        vertical-align: top;\n",
       "    }\n",
       "\n",
       "    .dataframe thead th {\n",
       "        text-align: right;\n",
       "    }\n",
       "</style>\n",
       "<table border=\"1\" class=\"dataframe\">\n",
       "  <thead>\n",
       "    <tr style=\"text-align: right;\">\n",
       "      <th></th>\n",
       "      <th>Index</th>\n",
       "      <th>speed</th>\n",
       "      <th>dist</th>\n",
       "    </tr>\n",
       "  </thead>\n",
       "  <tbody>\n",
       "    <tr>\n",
       "      <th>0</th>\n",
       "      <td>1</td>\n",
       "      <td>4</td>\n",
       "      <td>2</td>\n",
       "    </tr>\n",
       "    <tr>\n",
       "      <th>1</th>\n",
       "      <td>2</td>\n",
       "      <td>4</td>\n",
       "      <td>10</td>\n",
       "    </tr>\n",
       "    <tr>\n",
       "      <th>2</th>\n",
       "      <td>3</td>\n",
       "      <td>7</td>\n",
       "      <td>4</td>\n",
       "    </tr>\n",
       "    <tr>\n",
       "      <th>3</th>\n",
       "      <td>4</td>\n",
       "      <td>7</td>\n",
       "      <td>22</td>\n",
       "    </tr>\n",
       "    <tr>\n",
       "      <th>4</th>\n",
       "      <td>5</td>\n",
       "      <td>8</td>\n",
       "      <td>16</td>\n",
       "    </tr>\n",
       "    <tr>\n",
       "      <th>5</th>\n",
       "      <td>6</td>\n",
       "      <td>9</td>\n",
       "      <td>10</td>\n",
       "    </tr>\n",
       "    <tr>\n",
       "      <th>6</th>\n",
       "      <td>7</td>\n",
       "      <td>10</td>\n",
       "      <td>18</td>\n",
       "    </tr>\n",
       "    <tr>\n",
       "      <th>7</th>\n",
       "      <td>8</td>\n",
       "      <td>10</td>\n",
       "      <td>26</td>\n",
       "    </tr>\n",
       "    <tr>\n",
       "      <th>8</th>\n",
       "      <td>9</td>\n",
       "      <td>10</td>\n",
       "      <td>34</td>\n",
       "    </tr>\n",
       "    <tr>\n",
       "      <th>9</th>\n",
       "      <td>10</td>\n",
       "      <td>11</td>\n",
       "      <td>17</td>\n",
       "    </tr>\n",
       "    <tr>\n",
       "      <th>10</th>\n",
       "      <td>11</td>\n",
       "      <td>11</td>\n",
       "      <td>28</td>\n",
       "    </tr>\n",
       "    <tr>\n",
       "      <th>11</th>\n",
       "      <td>12</td>\n",
       "      <td>12</td>\n",
       "      <td>14</td>\n",
       "    </tr>\n",
       "    <tr>\n",
       "      <th>12</th>\n",
       "      <td>13</td>\n",
       "      <td>12</td>\n",
       "      <td>20</td>\n",
       "    </tr>\n",
       "    <tr>\n",
       "      <th>13</th>\n",
       "      <td>14</td>\n",
       "      <td>12</td>\n",
       "      <td>24</td>\n",
       "    </tr>\n",
       "    <tr>\n",
       "      <th>14</th>\n",
       "      <td>15</td>\n",
       "      <td>12</td>\n",
       "      <td>28</td>\n",
       "    </tr>\n",
       "    <tr>\n",
       "      <th>15</th>\n",
       "      <td>16</td>\n",
       "      <td>13</td>\n",
       "      <td>26</td>\n",
       "    </tr>\n",
       "    <tr>\n",
       "      <th>16</th>\n",
       "      <td>17</td>\n",
       "      <td>13</td>\n",
       "      <td>34</td>\n",
       "    </tr>\n",
       "    <tr>\n",
       "      <th>17</th>\n",
       "      <td>18</td>\n",
       "      <td>13</td>\n",
       "      <td>34</td>\n",
       "    </tr>\n",
       "    <tr>\n",
       "      <th>18</th>\n",
       "      <td>19</td>\n",
       "      <td>13</td>\n",
       "      <td>46</td>\n",
       "    </tr>\n",
       "    <tr>\n",
       "      <th>19</th>\n",
       "      <td>20</td>\n",
       "      <td>14</td>\n",
       "      <td>26</td>\n",
       "    </tr>\n",
       "    <tr>\n",
       "      <th>20</th>\n",
       "      <td>21</td>\n",
       "      <td>14</td>\n",
       "      <td>36</td>\n",
       "    </tr>\n",
       "    <tr>\n",
       "      <th>21</th>\n",
       "      <td>22</td>\n",
       "      <td>14</td>\n",
       "      <td>60</td>\n",
       "    </tr>\n",
       "    <tr>\n",
       "      <th>22</th>\n",
       "      <td>23</td>\n",
       "      <td>14</td>\n",
       "      <td>80</td>\n",
       "    </tr>\n",
       "    <tr>\n",
       "      <th>23</th>\n",
       "      <td>24</td>\n",
       "      <td>15</td>\n",
       "      <td>20</td>\n",
       "    </tr>\n",
       "    <tr>\n",
       "      <th>24</th>\n",
       "      <td>25</td>\n",
       "      <td>15</td>\n",
       "      <td>26</td>\n",
       "    </tr>\n",
       "    <tr>\n",
       "      <th>25</th>\n",
       "      <td>26</td>\n",
       "      <td>15</td>\n",
       "      <td>54</td>\n",
       "    </tr>\n",
       "    <tr>\n",
       "      <th>26</th>\n",
       "      <td>27</td>\n",
       "      <td>16</td>\n",
       "      <td>32</td>\n",
       "    </tr>\n",
       "    <tr>\n",
       "      <th>27</th>\n",
       "      <td>28</td>\n",
       "      <td>16</td>\n",
       "      <td>40</td>\n",
       "    </tr>\n",
       "    <tr>\n",
       "      <th>28</th>\n",
       "      <td>29</td>\n",
       "      <td>17</td>\n",
       "      <td>32</td>\n",
       "    </tr>\n",
       "    <tr>\n",
       "      <th>29</th>\n",
       "      <td>30</td>\n",
       "      <td>17</td>\n",
       "      <td>40</td>\n",
       "    </tr>\n",
       "    <tr>\n",
       "      <th>30</th>\n",
       "      <td>31</td>\n",
       "      <td>17</td>\n",
       "      <td>50</td>\n",
       "    </tr>\n",
       "    <tr>\n",
       "      <th>31</th>\n",
       "      <td>32</td>\n",
       "      <td>18</td>\n",
       "      <td>42</td>\n",
       "    </tr>\n",
       "    <tr>\n",
       "      <th>32</th>\n",
       "      <td>33</td>\n",
       "      <td>18</td>\n",
       "      <td>56</td>\n",
       "    </tr>\n",
       "    <tr>\n",
       "      <th>33</th>\n",
       "      <td>34</td>\n",
       "      <td>18</td>\n",
       "      <td>76</td>\n",
       "    </tr>\n",
       "    <tr>\n",
       "      <th>34</th>\n",
       "      <td>35</td>\n",
       "      <td>18</td>\n",
       "      <td>84</td>\n",
       "    </tr>\n",
       "    <tr>\n",
       "      <th>35</th>\n",
       "      <td>36</td>\n",
       "      <td>19</td>\n",
       "      <td>36</td>\n",
       "    </tr>\n",
       "    <tr>\n",
       "      <th>36</th>\n",
       "      <td>37</td>\n",
       "      <td>19</td>\n",
       "      <td>46</td>\n",
       "    </tr>\n",
       "    <tr>\n",
       "      <th>37</th>\n",
       "      <td>38</td>\n",
       "      <td>19</td>\n",
       "      <td>68</td>\n",
       "    </tr>\n",
       "    <tr>\n",
       "      <th>38</th>\n",
       "      <td>39</td>\n",
       "      <td>20</td>\n",
       "      <td>32</td>\n",
       "    </tr>\n",
       "    <tr>\n",
       "      <th>39</th>\n",
       "      <td>40</td>\n",
       "      <td>20</td>\n",
       "      <td>48</td>\n",
       "    </tr>\n",
       "    <tr>\n",
       "      <th>40</th>\n",
       "      <td>41</td>\n",
       "      <td>20</td>\n",
       "      <td>52</td>\n",
       "    </tr>\n",
       "    <tr>\n",
       "      <th>41</th>\n",
       "      <td>42</td>\n",
       "      <td>20</td>\n",
       "      <td>56</td>\n",
       "    </tr>\n",
       "    <tr>\n",
       "      <th>42</th>\n",
       "      <td>43</td>\n",
       "      <td>20</td>\n",
       "      <td>64</td>\n",
       "    </tr>\n",
       "    <tr>\n",
       "      <th>43</th>\n",
       "      <td>44</td>\n",
       "      <td>22</td>\n",
       "      <td>66</td>\n",
       "    </tr>\n",
       "    <tr>\n",
       "      <th>44</th>\n",
       "      <td>45</td>\n",
       "      <td>23</td>\n",
       "      <td>54</td>\n",
       "    </tr>\n",
       "    <tr>\n",
       "      <th>45</th>\n",
       "      <td>46</td>\n",
       "      <td>24</td>\n",
       "      <td>70</td>\n",
       "    </tr>\n",
       "    <tr>\n",
       "      <th>46</th>\n",
       "      <td>47</td>\n",
       "      <td>24</td>\n",
       "      <td>92</td>\n",
       "    </tr>\n",
       "    <tr>\n",
       "      <th>47</th>\n",
       "      <td>48</td>\n",
       "      <td>24</td>\n",
       "      <td>93</td>\n",
       "    </tr>\n",
       "    <tr>\n",
       "      <th>48</th>\n",
       "      <td>49</td>\n",
       "      <td>24</td>\n",
       "      <td>120</td>\n",
       "    </tr>\n",
       "    <tr>\n",
       "      <th>49</th>\n",
       "      <td>50</td>\n",
       "      <td>25</td>\n",
       "      <td>85</td>\n",
       "    </tr>\n",
       "  </tbody>\n",
       "</table>\n",
       "</div>"
      ],
      "text/plain": [
       "    Index  speed  dist\n",
       "0       1      4     2\n",
       "1       2      4    10\n",
       "2       3      7     4\n",
       "3       4      7    22\n",
       "4       5      8    16\n",
       "5       6      9    10\n",
       "6       7     10    18\n",
       "7       8     10    26\n",
       "8       9     10    34\n",
       "9      10     11    17\n",
       "10     11     11    28\n",
       "11     12     12    14\n",
       "12     13     12    20\n",
       "13     14     12    24\n",
       "14     15     12    28\n",
       "15     16     13    26\n",
       "16     17     13    34\n",
       "17     18     13    34\n",
       "18     19     13    46\n",
       "19     20     14    26\n",
       "20     21     14    36\n",
       "21     22     14    60\n",
       "22     23     14    80\n",
       "23     24     15    20\n",
       "24     25     15    26\n",
       "25     26     15    54\n",
       "26     27     16    32\n",
       "27     28     16    40\n",
       "28     29     17    32\n",
       "29     30     17    40\n",
       "30     31     17    50\n",
       "31     32     18    42\n",
       "32     33     18    56\n",
       "33     34     18    76\n",
       "34     35     18    84\n",
       "35     36     19    36\n",
       "36     37     19    46\n",
       "37     38     19    68\n",
       "38     39     20    32\n",
       "39     40     20    48\n",
       "40     41     20    52\n",
       "41     42     20    56\n",
       "42     43     20    64\n",
       "43     44     22    66\n",
       "44     45     23    54\n",
       "45     46     24    70\n",
       "46     47     24    92\n",
       "47     48     24    93\n",
       "48     49     24   120\n",
       "49     50     25    85"
      ]
     },
     "execution_count": 8,
     "metadata": {},
     "output_type": "execute_result"
    }
   ],
   "source": [
    "no"
   ]
  },
  {
   "cell_type": "code",
   "execution_count": 9,
   "id": "07b9fa97",
   "metadata": {
    "ExecuteTime": {
     "end_time": "2022-03-02T16:46:23.224380Z",
     "start_time": "2022-03-02T16:46:19.103351Z"
    }
   },
   "outputs": [],
   "source": [
    "import numpy as np\n",
    "from scipy.stats import kurtosis\n",
    "from scipy.stats import skew"
   ]
  },
  {
   "cell_type": "code",
   "execution_count": 10,
   "id": "b00d79f2",
   "metadata": {
    "ExecuteTime": {
     "end_time": "2022-03-02T16:46:23.414287Z",
     "start_time": "2022-03-02T16:46:23.393281Z"
    }
   },
   "outputs": [],
   "source": [
    "df=no.drop(labels=\"Index\", axis=1,inplace=True)"
   ]
  },
  {
   "cell_type": "code",
   "execution_count": 11,
   "id": "6b280131",
   "metadata": {
    "ExecuteTime": {
     "end_time": "2022-03-02T16:46:23.685356Z",
     "start_time": "2022-03-02T16:46:23.578330Z"
    }
   },
   "outputs": [
    {
     "data": {
      "text/html": [
       "<div>\n",
       "<style scoped>\n",
       "    .dataframe tbody tr th:only-of-type {\n",
       "        vertical-align: middle;\n",
       "    }\n",
       "\n",
       "    .dataframe tbody tr th {\n",
       "        vertical-align: top;\n",
       "    }\n",
       "\n",
       "    .dataframe thead th {\n",
       "        text-align: right;\n",
       "    }\n",
       "</style>\n",
       "<table border=\"1\" class=\"dataframe\">\n",
       "  <thead>\n",
       "    <tr style=\"text-align: right;\">\n",
       "      <th></th>\n",
       "      <th>speed</th>\n",
       "      <th>dist</th>\n",
       "    </tr>\n",
       "  </thead>\n",
       "  <tbody>\n",
       "    <tr>\n",
       "      <th>0</th>\n",
       "      <td>4</td>\n",
       "      <td>2</td>\n",
       "    </tr>\n",
       "    <tr>\n",
       "      <th>1</th>\n",
       "      <td>4</td>\n",
       "      <td>10</td>\n",
       "    </tr>\n",
       "    <tr>\n",
       "      <th>2</th>\n",
       "      <td>7</td>\n",
       "      <td>4</td>\n",
       "    </tr>\n",
       "    <tr>\n",
       "      <th>3</th>\n",
       "      <td>7</td>\n",
       "      <td>22</td>\n",
       "    </tr>\n",
       "    <tr>\n",
       "      <th>4</th>\n",
       "      <td>8</td>\n",
       "      <td>16</td>\n",
       "    </tr>\n",
       "    <tr>\n",
       "      <th>5</th>\n",
       "      <td>9</td>\n",
       "      <td>10</td>\n",
       "    </tr>\n",
       "    <tr>\n",
       "      <th>6</th>\n",
       "      <td>10</td>\n",
       "      <td>18</td>\n",
       "    </tr>\n",
       "    <tr>\n",
       "      <th>7</th>\n",
       "      <td>10</td>\n",
       "      <td>26</td>\n",
       "    </tr>\n",
       "    <tr>\n",
       "      <th>8</th>\n",
       "      <td>10</td>\n",
       "      <td>34</td>\n",
       "    </tr>\n",
       "    <tr>\n",
       "      <th>9</th>\n",
       "      <td>11</td>\n",
       "      <td>17</td>\n",
       "    </tr>\n",
       "    <tr>\n",
       "      <th>10</th>\n",
       "      <td>11</td>\n",
       "      <td>28</td>\n",
       "    </tr>\n",
       "    <tr>\n",
       "      <th>11</th>\n",
       "      <td>12</td>\n",
       "      <td>14</td>\n",
       "    </tr>\n",
       "    <tr>\n",
       "      <th>12</th>\n",
       "      <td>12</td>\n",
       "      <td>20</td>\n",
       "    </tr>\n",
       "    <tr>\n",
       "      <th>13</th>\n",
       "      <td>12</td>\n",
       "      <td>24</td>\n",
       "    </tr>\n",
       "    <tr>\n",
       "      <th>14</th>\n",
       "      <td>12</td>\n",
       "      <td>28</td>\n",
       "    </tr>\n",
       "    <tr>\n",
       "      <th>15</th>\n",
       "      <td>13</td>\n",
       "      <td>26</td>\n",
       "    </tr>\n",
       "    <tr>\n",
       "      <th>16</th>\n",
       "      <td>13</td>\n",
       "      <td>34</td>\n",
       "    </tr>\n",
       "    <tr>\n",
       "      <th>17</th>\n",
       "      <td>13</td>\n",
       "      <td>34</td>\n",
       "    </tr>\n",
       "    <tr>\n",
       "      <th>18</th>\n",
       "      <td>13</td>\n",
       "      <td>46</td>\n",
       "    </tr>\n",
       "    <tr>\n",
       "      <th>19</th>\n",
       "      <td>14</td>\n",
       "      <td>26</td>\n",
       "    </tr>\n",
       "    <tr>\n",
       "      <th>20</th>\n",
       "      <td>14</td>\n",
       "      <td>36</td>\n",
       "    </tr>\n",
       "    <tr>\n",
       "      <th>21</th>\n",
       "      <td>14</td>\n",
       "      <td>60</td>\n",
       "    </tr>\n",
       "    <tr>\n",
       "      <th>22</th>\n",
       "      <td>14</td>\n",
       "      <td>80</td>\n",
       "    </tr>\n",
       "    <tr>\n",
       "      <th>23</th>\n",
       "      <td>15</td>\n",
       "      <td>20</td>\n",
       "    </tr>\n",
       "    <tr>\n",
       "      <th>24</th>\n",
       "      <td>15</td>\n",
       "      <td>26</td>\n",
       "    </tr>\n",
       "    <tr>\n",
       "      <th>25</th>\n",
       "      <td>15</td>\n",
       "      <td>54</td>\n",
       "    </tr>\n",
       "    <tr>\n",
       "      <th>26</th>\n",
       "      <td>16</td>\n",
       "      <td>32</td>\n",
       "    </tr>\n",
       "    <tr>\n",
       "      <th>27</th>\n",
       "      <td>16</td>\n",
       "      <td>40</td>\n",
       "    </tr>\n",
       "    <tr>\n",
       "      <th>28</th>\n",
       "      <td>17</td>\n",
       "      <td>32</td>\n",
       "    </tr>\n",
       "    <tr>\n",
       "      <th>29</th>\n",
       "      <td>17</td>\n",
       "      <td>40</td>\n",
       "    </tr>\n",
       "    <tr>\n",
       "      <th>30</th>\n",
       "      <td>17</td>\n",
       "      <td>50</td>\n",
       "    </tr>\n",
       "    <tr>\n",
       "      <th>31</th>\n",
       "      <td>18</td>\n",
       "      <td>42</td>\n",
       "    </tr>\n",
       "    <tr>\n",
       "      <th>32</th>\n",
       "      <td>18</td>\n",
       "      <td>56</td>\n",
       "    </tr>\n",
       "    <tr>\n",
       "      <th>33</th>\n",
       "      <td>18</td>\n",
       "      <td>76</td>\n",
       "    </tr>\n",
       "    <tr>\n",
       "      <th>34</th>\n",
       "      <td>18</td>\n",
       "      <td>84</td>\n",
       "    </tr>\n",
       "    <tr>\n",
       "      <th>35</th>\n",
       "      <td>19</td>\n",
       "      <td>36</td>\n",
       "    </tr>\n",
       "    <tr>\n",
       "      <th>36</th>\n",
       "      <td>19</td>\n",
       "      <td>46</td>\n",
       "    </tr>\n",
       "    <tr>\n",
       "      <th>37</th>\n",
       "      <td>19</td>\n",
       "      <td>68</td>\n",
       "    </tr>\n",
       "    <tr>\n",
       "      <th>38</th>\n",
       "      <td>20</td>\n",
       "      <td>32</td>\n",
       "    </tr>\n",
       "    <tr>\n",
       "      <th>39</th>\n",
       "      <td>20</td>\n",
       "      <td>48</td>\n",
       "    </tr>\n",
       "    <tr>\n",
       "      <th>40</th>\n",
       "      <td>20</td>\n",
       "      <td>52</td>\n",
       "    </tr>\n",
       "    <tr>\n",
       "      <th>41</th>\n",
       "      <td>20</td>\n",
       "      <td>56</td>\n",
       "    </tr>\n",
       "    <tr>\n",
       "      <th>42</th>\n",
       "      <td>20</td>\n",
       "      <td>64</td>\n",
       "    </tr>\n",
       "    <tr>\n",
       "      <th>43</th>\n",
       "      <td>22</td>\n",
       "      <td>66</td>\n",
       "    </tr>\n",
       "    <tr>\n",
       "      <th>44</th>\n",
       "      <td>23</td>\n",
       "      <td>54</td>\n",
       "    </tr>\n",
       "    <tr>\n",
       "      <th>45</th>\n",
       "      <td>24</td>\n",
       "      <td>70</td>\n",
       "    </tr>\n",
       "    <tr>\n",
       "      <th>46</th>\n",
       "      <td>24</td>\n",
       "      <td>92</td>\n",
       "    </tr>\n",
       "    <tr>\n",
       "      <th>47</th>\n",
       "      <td>24</td>\n",
       "      <td>93</td>\n",
       "    </tr>\n",
       "    <tr>\n",
       "      <th>48</th>\n",
       "      <td>24</td>\n",
       "      <td>120</td>\n",
       "    </tr>\n",
       "    <tr>\n",
       "      <th>49</th>\n",
       "      <td>25</td>\n",
       "      <td>85</td>\n",
       "    </tr>\n",
       "  </tbody>\n",
       "</table>\n",
       "</div>"
      ],
      "text/plain": [
       "    speed  dist\n",
       "0       4     2\n",
       "1       4    10\n",
       "2       7     4\n",
       "3       7    22\n",
       "4       8    16\n",
       "5       9    10\n",
       "6      10    18\n",
       "7      10    26\n",
       "8      10    34\n",
       "9      11    17\n",
       "10     11    28\n",
       "11     12    14\n",
       "12     12    20\n",
       "13     12    24\n",
       "14     12    28\n",
       "15     13    26\n",
       "16     13    34\n",
       "17     13    34\n",
       "18     13    46\n",
       "19     14    26\n",
       "20     14    36\n",
       "21     14    60\n",
       "22     14    80\n",
       "23     15    20\n",
       "24     15    26\n",
       "25     15    54\n",
       "26     16    32\n",
       "27     16    40\n",
       "28     17    32\n",
       "29     17    40\n",
       "30     17    50\n",
       "31     18    42\n",
       "32     18    56\n",
       "33     18    76\n",
       "34     18    84\n",
       "35     19    36\n",
       "36     19    46\n",
       "37     19    68\n",
       "38     20    32\n",
       "39     20    48\n",
       "40     20    52\n",
       "41     20    56\n",
       "42     20    64\n",
       "43     22    66\n",
       "44     23    54\n",
       "45     24    70\n",
       "46     24    92\n",
       "47     24    93\n",
       "48     24   120\n",
       "49     25    85"
      ]
     },
     "execution_count": 11,
     "metadata": {},
     "output_type": "execute_result"
    }
   ],
   "source": [
    "no"
   ]
  },
  {
   "cell_type": "code",
   "execution_count": 60,
   "id": "8d571801",
   "metadata": {
    "ExecuteTime": {
     "end_time": "2022-03-01T10:14:14.148862Z",
     "start_time": "2022-03-01T10:14:14.132869Z"
    }
   },
   "outputs": [
    {
     "name": "stdout",
     "output_type": "stream",
     "text": [
      "excess kurtosis of normal distribution (should be 0): [-0.57714742  0.24801866]\n"
     ]
    }
   ],
   "source": [
    "print( 'excess kurtosis of normal distribution (should be 0): {}'.format( kurtosis(no) ))"
   ]
  },
  {
   "cell_type": "code",
   "execution_count": 61,
   "id": "f3b2425b",
   "metadata": {
    "ExecuteTime": {
     "end_time": "2022-03-01T10:14:24.200691Z",
     "start_time": "2022-03-01T10:14:24.176682Z"
    }
   },
   "outputs": [
    {
     "name": "stdout",
     "output_type": "stream",
     "text": [
      "skewness of normal distribution (should be 0): [-0.11395477  0.78248352]\n"
     ]
    }
   ],
   "source": [
    "print( 'skewness of normal distribution (should be 0): {}'.format( skew(no) ))\n"
   ]
  },
  {
   "cell_type": "code",
   "execution_count": 12,
   "id": "0538c027",
   "metadata": {
    "ExecuteTime": {
     "end_time": "2022-03-02T16:46:32.830457Z",
     "start_time": "2022-03-02T16:46:32.014005Z"
    }
   },
   "outputs": [
    {
     "name": "stdout",
     "output_type": "stream",
     "text": [
      "mean :  speed    15.40\n",
      "dist     42.98\n",
      "dtype: float64\n",
      "var  :  speed     27.4000\n",
      "dist     650.7796\n",
      "dtype: float64\n",
      "skew :  [-0.11395477  0.78248352]\n",
      "kurt :  [-0.57714742  0.24801866]\n"
     ]
    },
    {
     "data": {
      "image/png": "[encoded data removed]",
      "text/plain": [
       "<Figure size 432x288 with 1 Axes>"
      ]
     },
     "metadata": {
      "needs_background": "light"
     },
     "output_type": "display_data"
    }
   ],
   "source": [
    "import matplotlib.pyplot as plt\n",
    "\n",
    "plt.hist(no)\n",
    "\n",
    "print(\"mean : \", np.mean(no))\n",
    "print(\"var  : \", np.var(no))\n",
    "print(\"skew : \",skew(no))\n",
    "print(\"kurt : \",kurtosis(no))\n",
    "#Inference-  For Q9_a : I can observe that there is some outliers are also present and mainly the data is towards the positive the skewness."
   ]
  },
  {
   "cell_type": "code",
   "execution_count": 68,
   "id": "af93d369",
   "metadata": {
    "ExecuteTime": {
     "end_time": "2022-03-01T10:17:42.135290Z",
     "start_time": "2022-03-01T10:17:41.663027Z"
    }
   },
   "outputs": [
    {
     "data": {
      "text/plain": [
       "{'whiskers': [<matplotlib.lines.Line2D at 0x21d204fd190>,\n",
       "  <matplotlib.lines.Line2D at 0x21d204fd760>,\n",
       "  <matplotlib.lines.Line2D at 0x21d209e52e0>,\n",
       "  <matplotlib.lines.Line2D at 0x21d209e5910>],\n",
       " 'caps': [<matplotlib.lines.Line2D at 0x21d204fd070>,\n",
       "  <matplotlib.lines.Line2D at 0x21d204c01f0>,\n",
       "  <matplotlib.lines.Line2D at 0x21d209e5670>,\n",
       "  <matplotlib.lines.Line2D at 0x21d209e5880>],\n",
       " 'boxes': [<matplotlib.lines.Line2D at 0x21d204fd850>,\n",
       "  <matplotlib.lines.Line2D at 0x21d204c02b0>],\n",
       " 'medians': [<matplotlib.lines.Line2D at 0x21d204c0310>,\n",
       "  <matplotlib.lines.Line2D at 0x21d20a473a0>],\n",
       " 'fliers': [<matplotlib.lines.Line2D at 0x21d204c0be0>,\n",
       "  <matplotlib.lines.Line2D at 0x21d20a47b20>],\n",
       " 'means': []}"
      ]
     },
     "execution_count": 68,
     "metadata": {},
     "output_type": "execute_result"
    },
    {
     "data": {
      "image/png": "[encoded data removed]",
      "text/plain": [
       "<Figure size 432x288 with 1 Axes>"
      ]
     },
     "metadata": {
      "needs_background": "light"
     },
     "output_type": "display_data"
    }
   ],
   "source": [
    "plt.boxplot(no,vert=False)"
   ]
  },
  {
   "cell_type": "code",
   "execution_count": 101,
   "id": "6c4ecef3",
   "metadata": {
    "ExecuteTime": {
     "end_time": "2022-03-01T10:57:15.438777Z",
     "start_time": "2022-03-01T10:57:14.886814Z"
    }
   },
   "outputs": [
    {
     "data": {
      "text/plain": [
       "Text(0.5, 0, 'dist')"
      ]
     },
     "execution_count": 101,
     "metadata": {},
     "output_type": "execute_result"
    },
    {
     "data": {
      "image/png": "[encoded data removed]",
      "text/plain": [
       "<Figure size 432x432 with 1 Axes>"
      ]
     },
     "metadata": {
      "needs_background": "light"
     },
     "output_type": "display_data"
    }
   ],
   "source": [
    "plt.figure(figsize=(6,6))\n",
    "plt.scatter(no.speed,no.dist)## scatter plot of two variables\n",
    "plt.ylabel(\"speed\")\n",
    "plt.xlabel(\"dist\")"
   ]
  },
  {
   "cell_type": "code",
   "execution_count": 13,
   "id": "7ca3d2e7",
   "metadata": {
    "ExecuteTime": {
     "end_time": "2022-03-02T16:46:48.773583Z",
     "start_time": "2022-03-02T16:46:48.719571Z"
    }
   },
   "outputs": [],
   "source": [
    "#SP and Weight(WT)\n",
    "#Inference- For Q9_b :  Here I can observe the data is more kurtosis value and less skweness is their in data.\n",
    "#Use Q9_b.csv\n",
    "Ba= pd.read_csv(\"C:\\\\Users\\\\mrmri\\\\Downloads\\\\Assignments Excelr\\\\Basic Statistics Level 01\\\\Q9_b.csv\")"
   ]
  },
  {
   "cell_type": "code",
   "execution_count": 14,
   "id": "c5537c44",
   "metadata": {
    "ExecuteTime": {
     "end_time": "2022-03-02T16:46:49.243107Z",
     "start_time": "2022-03-02T16:46:49.210097Z"
    }
   },
   "outputs": [
    {
     "data": {
      "text/html": [
       "<div>\n",
       "<style scoped>\n",
       "    .dataframe tbody tr th:only-of-type {\n",
       "        vertical-align: middle;\n",
       "    }\n",
       "\n",
       "    .dataframe tbody tr th {\n",
       "        vertical-align: top;\n",
       "    }\n",
       "\n",
       "    .dataframe thead th {\n",
       "        text-align: right;\n",
       "    }\n",
       "</style>\n",
       "<table border=\"1\" class=\"dataframe\">\n",
       "  <thead>\n",
       "    <tr style=\"text-align: right;\">\n",
       "      <th></th>\n",
       "      <th>Index</th>\n",
       "      <th>SP</th>\n",
       "      <th>WT</th>\n",
       "    </tr>\n",
       "  </thead>\n",
       "  <tbody>\n",
       "    <tr>\n",
       "      <th>0</th>\n",
       "      <td>1</td>\n",
       "      <td>104.185353</td>\n",
       "      <td>28.762059</td>\n",
       "    </tr>\n",
       "    <tr>\n",
       "      <th>1</th>\n",
       "      <td>2</td>\n",
       "      <td>105.461264</td>\n",
       "      <td>30.466833</td>\n",
       "    </tr>\n",
       "    <tr>\n",
       "      <th>2</th>\n",
       "      <td>3</td>\n",
       "      <td>105.461264</td>\n",
       "      <td>30.193597</td>\n",
       "    </tr>\n",
       "    <tr>\n",
       "      <th>3</th>\n",
       "      <td>4</td>\n",
       "      <td>113.461264</td>\n",
       "      <td>30.632114</td>\n",
       "    </tr>\n",
       "    <tr>\n",
       "      <th>4</th>\n",
       "      <td>5</td>\n",
       "      <td>104.461264</td>\n",
       "      <td>29.889149</td>\n",
       "    </tr>\n",
       "    <tr>\n",
       "      <th>...</th>\n",
       "      <td>...</td>\n",
       "      <td>...</td>\n",
       "      <td>...</td>\n",
       "    </tr>\n",
       "    <tr>\n",
       "      <th>76</th>\n",
       "      <td>77</td>\n",
       "      <td>169.598513</td>\n",
       "      <td>16.132947</td>\n",
       "    </tr>\n",
       "    <tr>\n",
       "      <th>77</th>\n",
       "      <td>78</td>\n",
       "      <td>150.576579</td>\n",
       "      <td>37.923113</td>\n",
       "    </tr>\n",
       "    <tr>\n",
       "      <th>78</th>\n",
       "      <td>79</td>\n",
       "      <td>151.598513</td>\n",
       "      <td>15.769625</td>\n",
       "    </tr>\n",
       "    <tr>\n",
       "      <th>79</th>\n",
       "      <td>80</td>\n",
       "      <td>167.944460</td>\n",
       "      <td>39.423099</td>\n",
       "    </tr>\n",
       "    <tr>\n",
       "      <th>80</th>\n",
       "      <td>81</td>\n",
       "      <td>139.840817</td>\n",
       "      <td>34.948615</td>\n",
       "    </tr>\n",
       "  </tbody>\n",
       "</table>\n",
       "<p>81 rows × 3 columns</p>\n",
       "</div>"
      ],
      "text/plain": [
       "    Index          SP         WT\n",
       "0       1  104.185353  28.762059\n",
       "1       2  105.461264  30.466833\n",
       "2       3  105.461264  30.193597\n",
       "3       4  113.461264  30.632114\n",
       "4       5  104.461264  29.889149\n",
       "..    ...         ...        ...\n",
       "76     77  169.598513  16.132947\n",
       "77     78  150.576579  37.923113\n",
       "78     79  151.598513  15.769625\n",
       "79     80  167.944460  39.423099\n",
       "80     81  139.840817  34.948615\n",
       "\n",
       "[81 rows x 3 columns]"
      ]
     },
     "execution_count": 14,
     "metadata": {},
     "output_type": "execute_result"
    }
   ],
   "source": [
    "Ba"
   ]
  },
  {
   "cell_type": "code",
   "execution_count": 86,
   "id": "8c327040",
   "metadata": {
    "ExecuteTime": {
     "end_time": "2022-03-01T10:26:34.441633Z",
     "start_time": "2022-03-01T10:26:34.409635Z"
    }
   },
   "outputs": [],
   "source": [
    "df=Ba.drop(labels=\"Index\", axis=1,inplace=True)"
   ]
  },
  {
   "cell_type": "code",
   "execution_count": 87,
   "id": "7187fd5d",
   "metadata": {
    "ExecuteTime": {
     "end_time": "2022-03-01T10:26:42.177307Z",
     "start_time": "2022-03-01T10:26:42.129300Z"
    }
   },
   "outputs": [
    {
     "data": {
      "text/html": [
       "<div>\n",
       "<style scoped>\n",
       "    .dataframe tbody tr th:only-of-type {\n",
       "        vertical-align: middle;\n",
       "    }\n",
       "\n",
       "    .dataframe tbody tr th {\n",
       "        vertical-align: top;\n",
       "    }\n",
       "\n",
       "    .dataframe thead th {\n",
       "        text-align: right;\n",
       "    }\n",
       "</style>\n",
       "<table border=\"1\" class=\"dataframe\">\n",
       "  <thead>\n",
       "    <tr style=\"text-align: right;\">\n",
       "      <th></th>\n",
       "      <th>SP</th>\n",
       "      <th>WT</th>\n",
       "    </tr>\n",
       "  </thead>\n",
       "  <tbody>\n",
       "    <tr>\n",
       "      <th>0</th>\n",
       "      <td>104.185353</td>\n",
       "      <td>28.762059</td>\n",
       "    </tr>\n",
       "    <tr>\n",
       "      <th>1</th>\n",
       "      <td>105.461264</td>\n",
       "      <td>30.466833</td>\n",
       "    </tr>\n",
       "    <tr>\n",
       "      <th>2</th>\n",
       "      <td>105.461264</td>\n",
       "      <td>30.193597</td>\n",
       "    </tr>\n",
       "    <tr>\n",
       "      <th>3</th>\n",
       "      <td>113.461264</td>\n",
       "      <td>30.632114</td>\n",
       "    </tr>\n",
       "    <tr>\n",
       "      <th>4</th>\n",
       "      <td>104.461264</td>\n",
       "      <td>29.889149</td>\n",
       "    </tr>\n",
       "    <tr>\n",
       "      <th>...</th>\n",
       "      <td>...</td>\n",
       "      <td>...</td>\n",
       "    </tr>\n",
       "    <tr>\n",
       "      <th>76</th>\n",
       "      <td>169.598513</td>\n",
       "      <td>16.132947</td>\n",
       "    </tr>\n",
       "    <tr>\n",
       "      <th>77</th>\n",
       "      <td>150.576579</td>\n",
       "      <td>37.923113</td>\n",
       "    </tr>\n",
       "    <tr>\n",
       "      <th>78</th>\n",
       "      <td>151.598513</td>\n",
       "      <td>15.769625</td>\n",
       "    </tr>\n",
       "    <tr>\n",
       "      <th>79</th>\n",
       "      <td>167.944460</td>\n",
       "      <td>39.423099</td>\n",
       "    </tr>\n",
       "    <tr>\n",
       "      <th>80</th>\n",
       "      <td>139.840817</td>\n",
       "      <td>34.948615</td>\n",
       "    </tr>\n",
       "  </tbody>\n",
       "</table>\n",
       "<p>81 rows × 2 columns</p>\n",
       "</div>"
      ],
      "text/plain": [
       "            SP         WT\n",
       "0   104.185353  28.762059\n",
       "1   105.461264  30.466833\n",
       "2   105.461264  30.193597\n",
       "3   113.461264  30.632114\n",
       "4   104.461264  29.889149\n",
       "..         ...        ...\n",
       "76  169.598513  16.132947\n",
       "77  150.576579  37.923113\n",
       "78  151.598513  15.769625\n",
       "79  167.944460  39.423099\n",
       "80  139.840817  34.948615\n",
       "\n",
       "[81 rows x 2 columns]"
      ]
     },
     "execution_count": 87,
     "metadata": {},
     "output_type": "execute_result"
    }
   ],
   "source": [
    "Ba"
   ]
  },
  {
   "cell_type": "code",
   "execution_count": 15,
   "id": "eb190b29",
   "metadata": {
    "ExecuteTime": {
     "end_time": "2022-03-02T16:46:55.101912Z",
     "start_time": "2022-03-02T16:46:54.431201Z"
    }
   },
   "outputs": [
    {
     "name": "stdout",
     "output_type": "stream",
     "text": [
      "mean :  Index     41.000000\n",
      "SP       121.540272\n",
      "WT        32.412577\n",
      "dtype: float64\n",
      "var  :  Index    546.666667\n",
      "SP       198.630125\n",
      "WT        55.449132\n",
      "dtype: float64\n",
      "skew :  [ 0.          1.58145368 -0.60330993]\n",
      "kurt :  [-1.20036585  2.72352149  0.81946588]\n"
     ]
    },
    {
     "data": {
      "image/png": "[encoded data removed]",
      "text/plain": [
       "<Figure size 432x288 with 1 Axes>"
      ]
     },
     "metadata": {
      "needs_background": "light"
     },
     "output_type": "display_data"
    }
   ],
   "source": [
    "plt.hist(Ba)\n",
    "\n",
    "print(\"mean : \", np.mean(Ba))\n",
    "print(\"var  : \", np.var(Ba))\n",
    "print(\"skew : \",skew(Ba))\n",
    "print(\"kurt : \",kurtosis(Ba))"
   ]
  },
  {
   "cell_type": "code",
   "execution_count": 89,
   "id": "9c980a25",
   "metadata": {
    "ExecuteTime": {
     "end_time": "2022-03-01T10:28:58.729142Z",
     "start_time": "2022-03-01T10:28:58.108473Z"
    }
   },
   "outputs": [
    {
     "data": {
      "text/plain": [
       "{'whiskers': [<matplotlib.lines.Line2D at 0x21d21b4fc40>,\n",
       "  <matplotlib.lines.Line2D at 0x21d21b46280>,\n",
       "  <matplotlib.lines.Line2D at 0x21d21b55dc0>,\n",
       "  <matplotlib.lines.Line2D at 0x21d21b56040>],\n",
       " 'caps': [<matplotlib.lines.Line2D at 0x21d21b467f0>,\n",
       "  <matplotlib.lines.Line2D at 0x21d21b46c10>,\n",
       "  <matplotlib.lines.Line2D at 0x21d21b56a90>,\n",
       "  <matplotlib.lines.Line2D at 0x21d21adbe80>],\n",
       " 'boxes': [<matplotlib.lines.Line2D at 0x21d21b4f280>,\n",
       "  <matplotlib.lines.Line2D at 0x21d21b55760>],\n",
       " 'medians': [<matplotlib.lines.Line2D at 0x21d21b51d60>,\n",
       "  <matplotlib.lines.Line2D at 0x21d21adb850>],\n",
       " 'fliers': [<matplotlib.lines.Line2D at 0x21d21b53e20>,\n",
       "  <matplotlib.lines.Line2D at 0x21d21adb0d0>],\n",
       " 'means': []}"
      ]
     },
     "execution_count": 89,
     "metadata": {},
     "output_type": "execute_result"
    },
    {
     "data": {
      "image/png": "[encoded data removed]",
      "text/plain": [
       "<Figure size 432x288 with 1 Axes>"
      ]
     },
     "metadata": {
      "needs_background": "light"
     },
     "output_type": "display_data"
    }
   ],
   "source": [
    "plt.boxplot(Ba,vert=False)"
   ]
  },
  {
   "cell_type": "code",
   "execution_count": 102,
   "id": "3e7b38cf",
   "metadata": {
    "ExecuteTime": {
     "end_time": "2022-03-01T10:57:36.515461Z",
     "start_time": "2022-03-01T10:57:35.855404Z"
    }
   },
   "outputs": [
    {
     "data": {
      "text/plain": [
       "Text(0.5, 0, 'WT')"
      ]
     },
     "execution_count": 102,
     "metadata": {},
     "output_type": "execute_result"
    },
    {
     "data": {
      "image/png": "[encoded data removed]",
      "text/plain": [
       "<Figure size 432x432 with 1 Axes>"
      ]
     },
     "metadata": {
      "needs_background": "light"
     },
     "output_type": "display_data"
    }
   ],
   "source": [
    "\n",
    "plt.figure(figsize=(6,6))\n",
    "plt.scatter(Ba.SP,Ba.WT)## scatter plot of two variables\n",
    "plt.ylabel(\"SP\")\n",
    "plt.xlabel(\"WT\")"
   ]
  },
  {
   "cell_type": "code",
   "execution_count": null,
   "id": "bfc037b8",
   "metadata": {},
   "outputs": [],
   "source": [
    "#Q10) Draw inferences about the following boxplot & histogram\n",
    "\n",
    "#Ans. While I can check with this histogram and boxplot in both, In Boxplot there are outliers are lying where as same in histogram also mainly moreover data is lying from 0-300 but there is some data that is lying more above 300 so that’s is only showing the outliers in boxplot also. Moreover I can say that histogram is have more data towards left which is Positive Skewness."
   ]
  },
  {
   "cell_type": "code",
   "execution_count": 1,
   "id": "7dd38e7c",
   "metadata": {
    "ExecuteTime": {
     "end_time": "2022-03-02T07:58:49.299975Z",
     "start_time": "2022-03-02T07:58:49.267974Z"
    }
   },
   "outputs": [],
   "source": [
    "from scipy import stats\n",
    "from scipy.stats import norm"
   ]
  },
  {
   "cell_type": "code",
   "execution_count": null,
   "id": "ee2120ec",
   "metadata": {},
   "outputs": [],
   "source": [
    "#Q11)  Suppose we want to estimate the average weight of an adult male in    Mexico. We draw a random sample of 2,000 men from a population of 3,000,000 men and weigh them. We find that the average person in our sample weighs 200 pounds, and the standard deviation of the sample is 30 pounds. Calculate 94%,98%,96% confidence interval?"
   ]
  },
  {
   "cell_type": "code",
   "execution_count": 5,
   "id": "6e93b5ed",
   "metadata": {
    "ExecuteTime": {
     "end_time": "2022-03-02T08:00:17.807286Z",
     "start_time": "2022-03-02T08:00:17.775277Z"
    }
   },
   "outputs": [
    {
     "data": {
      "text/plain": [
       "(198.738325292158, 201.261674707842)"
      ]
     },
     "execution_count": 5,
     "metadata": {},
     "output_type": "execute_result"
    }
   ],
   "source": [
    "# Avg. weight of Adult in Mexico with 94% CI\n",
    "stats.norm.interval(0.94,200,30/(2000**0.5))"
   ]
  },
  {
   "cell_type": "code",
   "execution_count": 3,
   "id": "a9f1180a",
   "metadata": {
    "ExecuteTime": {
     "end_time": "2022-03-02T07:59:52.524813Z",
     "start_time": "2022-03-02T07:59:52.492812Z"
    }
   },
   "outputs": [
    {
     "data": {
      "text/plain": [
       "(198.43943840429978, 201.56056159570022)"
      ]
     },
     "execution_count": 3,
     "metadata": {},
     "output_type": "execute_result"
    }
   ],
   "source": [
    "# Avg. weight of Adult in Mexico with 98% CI\n",
    "stats.norm.interval(0.98,200,30/(2000**0.5))\n"
   ]
  },
  {
   "cell_type": "code",
   "execution_count": 4,
   "id": "985e7cb9",
   "metadata": {
    "ExecuteTime": {
     "end_time": "2022-03-02T07:59:59.766635Z",
     "start_time": "2022-03-02T07:59:59.742632Z"
    }
   },
   "outputs": [
    {
     "data": {
      "text/plain": [
       "(198.62230334813333, 201.37769665186667)"
      ]
     },
     "execution_count": 4,
     "metadata": {},
     "output_type": "execute_result"
    }
   ],
   "source": [
    "# Avg. weight of Adult in Mexico with 96% CI\n",
    "stats.norm.interval(0.96,200,30/(2000**0.5))"
   ]
  },
  {
   "cell_type": "code",
   "execution_count": null,
   "id": "cf79a576",
   "metadata": {},
   "outputs": [],
   "source": [
    "#Q12)  Below are the scores obtained by a student in tests \n",
    "34,36,36,38,38,39,39,40,40,41,41,41,41,42,42,45,49,56\n",
    "  #  1) Find mean, median, variance, standard deviation.\n",
    "   # 2) What can we say about the student marks? "
   ]
  },
  {
   "cell_type": "code",
   "execution_count": 26,
   "id": "59845b57",
   "metadata": {
    "ExecuteTime": {
     "end_time": "2022-03-02T08:12:59.120242Z",
     "start_time": "2022-03-02T08:12:59.088246Z"
    }
   },
   "outputs": [
    {
     "name": "stdout",
     "output_type": "stream",
     "text": [
      "     0\n",
      "0   34\n",
      "1   36\n",
      "2   36\n",
      "3   38\n",
      "4   38\n",
      "5   39\n",
      "6   39\n",
      "7   40\n",
      "8   40\n",
      "9   41\n",
      "10  41\n",
      "11  41\n",
      "12  41\n",
      "13  42\n",
      "14  42\n",
      "15  45\n",
      "16  49\n",
      "17  56\n"
     ]
    }
   ],
   "source": [
    "import pandas as pd\n",
    "data=[34,36,36,38,38,39,39,40,40,41,41,41,41,42,42,45,49,56]\n",
    "df=pd.DataFrame(data)\n",
    "print(df)\n"
   ]
  },
  {
   "cell_type": "code",
   "execution_count": 22,
   "id": "dc5e41d8",
   "metadata": {
    "ExecuteTime": {
     "end_time": "2022-03-02T08:11:28.285864Z",
     "start_time": "2022-03-02T08:11:28.245861Z"
    }
   },
   "outputs": [
    {
     "data": {
      "text/plain": [
       "0    40.5\n",
       "dtype: float64"
      ]
     },
     "execution_count": 22,
     "metadata": {},
     "output_type": "execute_result"
    }
   ],
   "source": [
    "df.median()"
   ]
  },
  {
   "cell_type": "code",
   "execution_count": 27,
   "id": "8bd4209f",
   "metadata": {
    "ExecuteTime": {
     "end_time": "2022-03-02T08:13:13.271961Z",
     "start_time": "2022-03-02T08:13:13.247958Z"
    }
   },
   "outputs": [
    {
     "data": {
      "text/plain": [
       "0    41.0\n",
       "dtype: float64"
      ]
     },
     "execution_count": 27,
     "metadata": {},
     "output_type": "execute_result"
    }
   ],
   "source": [
    "df.mean()"
   ]
  },
  {
   "cell_type": "code",
   "execution_count": 28,
   "id": "aa9099d5",
   "metadata": {
    "ExecuteTime": {
     "end_time": "2022-03-02T08:13:31.467206Z",
     "start_time": "2022-03-02T08:13:31.443196Z"
    }
   },
   "outputs": [
    {
     "data": {
      "text/plain": [
       "0    25.529412\n",
       "dtype: float64"
      ]
     },
     "execution_count": 28,
     "metadata": {},
     "output_type": "execute_result"
    }
   ],
   "source": [
    "df.var()"
   ]
  },
  {
   "cell_type": "code",
   "execution_count": 31,
   "id": "f197cf31",
   "metadata": {
    "ExecuteTime": {
     "end_time": "2022-03-02T08:16:28.739074Z",
     "start_time": "2022-03-02T08:16:28.699070Z"
    }
   },
   "outputs": [
    {
     "data": {
      "text/plain": [
       "0    5.052664\n",
       "dtype: float64"
      ]
     },
     "execution_count": 31,
     "metadata": {},
     "output_type": "execute_result"
    }
   ],
   "source": [
    "df.std()"
   ]
  },
  {
   "cell_type": "code",
   "execution_count": null,
   "id": "94050276",
   "metadata": {},
   "outputs": [],
   "source": [
    "# We can say about students marks are upto avg. near about upto 41 mostly scoring this much."
   ]
  },
  {
   "cell_type": "code",
   "execution_count": null,
   "id": "055895a2",
   "metadata": {},
   "outputs": [],
   "source": [
    "#Q13) What is the nature of skewness when mean, median of data are equal?\n",
    "#ANS.If Mean, Median are equal of the data so mainly the distribution will be equal so skewness will be 0 at that time.\n",
    "#Q14) What is the nature of skewness when mean > median ?\n",
    "#ANS.The skweness will be positive as due to mean is high than median so data more will be lying towards left of median.\n",
    "#Q15) What is the nature of skewness when median > mean?\n",
    "#ANS.The skweness will be Negative as due to mean is high than median so data more will be lying towards Right of median\n",
    "#Q16) What does positive kurtosis value indicates for a data ?\n",
    "#ANS.Positive values of kurtosis indicate that distribution is high peaked and possesses thick tails and moreover the data is concentrated in the peak.\n",
    "#Q17) What does negative kurtosis value indicates for a data?\n",
    "#ANS.Negative excess values of kurtosis indicate that a distribution is flat and has thin tails. "
   ]
  },
  {
   "cell_type": "code",
   "execution_count": null,
   "id": "65416309",
   "metadata": {},
   "outputs": [],
   "source": [
    "#Q18) Answer the below questions using the below boxplot visualization.\n",
    "#What can we say about the distribution of the data?\n",
    "#Non Uniform Distrubution moreover the data lyging more towards the 10-14 & can say that median is 15.\n",
    "#What is nature of skewness of the data?\n",
    "#Negative Skewness.\n",
    "#What will be the IQR of the data (approximately)? \n",
    "#IQR will be 50% \n",
    "\n",
    "#Draw an Inference from the distribution of data for Boxplot 1 with respect Boxplot 2.\n",
    "#ANS.In BoxPlot 1 is less data is their which is lying 280-250 & median for both box plot is same  260. where as box plot 2 has more high value of lower quartile(25%) and upper quartile  (75%) rather than bosplot 1.No Outliers present In both.\n"
   ]
  },
  {
   "cell_type": "code",
   "execution_count": null,
   "id": "80bb0174",
   "metadata": {},
   "outputs": [],
   "source": [
    "#Q 20) Calculate probability from the given dataset for the below cases\n",
    "\n",
    "#Data _set: Cars.csv\n",
    "#Calculate the probability of MPG  of Cars for the below cases.\n",
    " #      MPG <- Cars$MPG\n",
    "  #      a. P(MPG>38)\n",
    "   #     b. P(MPG<40)\n",
    "   #     c. P (20<MPG<50)"
   ]
  },
  {
   "cell_type": "code",
   "execution_count": 103,
   "id": "68e84400",
   "metadata": {
    "ExecuteTime": {
     "end_time": "2022-03-02T10:07:40.357248Z",
     "start_time": "2022-03-02T10:07:40.309245Z"
    }
   },
   "outputs": [],
   "source": [
    "cars=pd.read_csv(\"C:\\\\Users\\\\mrmri\\\\Downloads\\\\Assignments Excelr\\\\Basic Statistics Level 01\\\\Cars 1.csv\")"
   ]
  },
  {
   "cell_type": "code",
   "execution_count": 104,
   "id": "dd4b3343",
   "metadata": {
    "ExecuteTime": {
     "end_time": "2022-03-02T10:07:43.437941Z",
     "start_time": "2022-03-02T10:07:43.373927Z"
    }
   },
   "outputs": [
    {
     "data": {
      "text/html": [
       "<div>\n",
       "<style scoped>\n",
       "    .dataframe tbody tr th:only-of-type {\n",
       "        vertical-align: middle;\n",
       "    }\n",
       "\n",
       "    .dataframe tbody tr th {\n",
       "        vertical-align: top;\n",
       "    }\n",
       "\n",
       "    .dataframe thead th {\n",
       "        text-align: right;\n",
       "    }\n",
       "</style>\n",
       "<table border=\"1\" class=\"dataframe\">\n",
       "  <thead>\n",
       "    <tr style=\"text-align: right;\">\n",
       "      <th></th>\n",
       "      <th>HP</th>\n",
       "      <th>MPG</th>\n",
       "      <th>VOL</th>\n",
       "      <th>SP</th>\n",
       "      <th>WT</th>\n",
       "    </tr>\n",
       "  </thead>\n",
       "  <tbody>\n",
       "    <tr>\n",
       "      <th>0</th>\n",
       "      <td>49</td>\n",
       "      <td>53.700681</td>\n",
       "      <td>89</td>\n",
       "      <td>104.185353</td>\n",
       "      <td>28.762059</td>\n",
       "    </tr>\n",
       "    <tr>\n",
       "      <th>1</th>\n",
       "      <td>55</td>\n",
       "      <td>50.013401</td>\n",
       "      <td>92</td>\n",
       "      <td>105.461264</td>\n",
       "      <td>30.466833</td>\n",
       "    </tr>\n",
       "    <tr>\n",
       "      <th>2</th>\n",
       "      <td>55</td>\n",
       "      <td>50.013401</td>\n",
       "      <td>92</td>\n",
       "      <td>105.461264</td>\n",
       "      <td>30.193597</td>\n",
       "    </tr>\n",
       "    <tr>\n",
       "      <th>3</th>\n",
       "      <td>70</td>\n",
       "      <td>45.696322</td>\n",
       "      <td>92</td>\n",
       "      <td>113.461264</td>\n",
       "      <td>30.632114</td>\n",
       "    </tr>\n",
       "    <tr>\n",
       "      <th>4</th>\n",
       "      <td>53</td>\n",
       "      <td>50.504232</td>\n",
       "      <td>92</td>\n",
       "      <td>104.461264</td>\n",
       "      <td>29.889149</td>\n",
       "    </tr>\n",
       "    <tr>\n",
       "      <th>...</th>\n",
       "      <td>...</td>\n",
       "      <td>...</td>\n",
       "      <td>...</td>\n",
       "      <td>...</td>\n",
       "      <td>...</td>\n",
       "    </tr>\n",
       "    <tr>\n",
       "      <th>76</th>\n",
       "      <td>322</td>\n",
       "      <td>36.900000</td>\n",
       "      <td>50</td>\n",
       "      <td>169.598513</td>\n",
       "      <td>16.132947</td>\n",
       "    </tr>\n",
       "    <tr>\n",
       "      <th>77</th>\n",
       "      <td>238</td>\n",
       "      <td>19.197888</td>\n",
       "      <td>115</td>\n",
       "      <td>150.576579</td>\n",
       "      <td>37.923113</td>\n",
       "    </tr>\n",
       "    <tr>\n",
       "      <th>78</th>\n",
       "      <td>263</td>\n",
       "      <td>34.000000</td>\n",
       "      <td>50</td>\n",
       "      <td>151.598513</td>\n",
       "      <td>15.769625</td>\n",
       "    </tr>\n",
       "    <tr>\n",
       "      <th>79</th>\n",
       "      <td>295</td>\n",
       "      <td>19.833733</td>\n",
       "      <td>119</td>\n",
       "      <td>167.944460</td>\n",
       "      <td>39.423099</td>\n",
       "    </tr>\n",
       "    <tr>\n",
       "      <th>80</th>\n",
       "      <td>236</td>\n",
       "      <td>12.101263</td>\n",
       "      <td>107</td>\n",
       "      <td>139.840817</td>\n",
       "      <td>34.948615</td>\n",
       "    </tr>\n",
       "  </tbody>\n",
       "</table>\n",
       "<p>81 rows × 5 columns</p>\n",
       "</div>"
      ],
      "text/plain": [
       "     HP        MPG  VOL          SP         WT\n",
       "0    49  53.700681   89  104.185353  28.762059\n",
       "1    55  50.013401   92  105.461264  30.466833\n",
       "2    55  50.013401   92  105.461264  30.193597\n",
       "3    70  45.696322   92  113.461264  30.632114\n",
       "4    53  50.504232   92  104.461264  29.889149\n",
       "..  ...        ...  ...         ...        ...\n",
       "76  322  36.900000   50  169.598513  16.132947\n",
       "77  238  19.197888  115  150.576579  37.923113\n",
       "78  263  34.000000   50  151.598513  15.769625\n",
       "79  295  19.833733  119  167.944460  39.423099\n",
       "80  236  12.101263  107  139.840817  34.948615\n",
       "\n",
       "[81 rows x 5 columns]"
      ]
     },
     "execution_count": 104,
     "metadata": {},
     "output_type": "execute_result"
    }
   ],
   "source": [
    "cars"
   ]
  },
  {
   "cell_type": "code",
   "execution_count": 105,
   "id": "6e2dfcc5",
   "metadata": {
    "ExecuteTime": {
     "end_time": "2022-03-02T10:07:46.654660Z",
     "start_time": "2022-03-02T10:07:46.638658Z"
    }
   },
   "outputs": [],
   "source": [
    "import numpy as np"
   ]
  },
  {
   "cell_type": "code",
   "execution_count": 106,
   "id": "efc1f334",
   "metadata": {
    "ExecuteTime": {
     "end_time": "2022-03-02T10:07:49.409155Z",
     "start_time": "2022-03-02T10:07:49.273139Z"
    }
   },
   "outputs": [
    {
     "data": {
      "text/html": [
       "<div>\n",
       "<style scoped>\n",
       "    .dataframe tbody tr th:only-of-type {\n",
       "        vertical-align: middle;\n",
       "    }\n",
       "\n",
       "    .dataframe tbody tr th {\n",
       "        vertical-align: top;\n",
       "    }\n",
       "\n",
       "    .dataframe thead th {\n",
       "        text-align: right;\n",
       "    }\n",
       "</style>\n",
       "<table border=\"1\" class=\"dataframe\">\n",
       "  <thead>\n",
       "    <tr style=\"text-align: right;\">\n",
       "      <th></th>\n",
       "      <th>HP</th>\n",
       "      <th>MPG</th>\n",
       "      <th>VOL</th>\n",
       "      <th>SP</th>\n",
       "      <th>WT</th>\n",
       "    </tr>\n",
       "  </thead>\n",
       "  <tbody>\n",
       "    <tr>\n",
       "      <th>count</th>\n",
       "      <td>81.000000</td>\n",
       "      <td>81.000000</td>\n",
       "      <td>81.000000</td>\n",
       "      <td>81.000000</td>\n",
       "      <td>81.000000</td>\n",
       "    </tr>\n",
       "    <tr>\n",
       "      <th>mean</th>\n",
       "      <td>117.469136</td>\n",
       "      <td>34.422076</td>\n",
       "      <td>98.765432</td>\n",
       "      <td>121.540272</td>\n",
       "      <td>32.412577</td>\n",
       "    </tr>\n",
       "    <tr>\n",
       "      <th>std</th>\n",
       "      <td>57.113502</td>\n",
       "      <td>9.131445</td>\n",
       "      <td>22.301497</td>\n",
       "      <td>14.181432</td>\n",
       "      <td>7.492813</td>\n",
       "    </tr>\n",
       "    <tr>\n",
       "      <th>min</th>\n",
       "      <td>49.000000</td>\n",
       "      <td>12.101263</td>\n",
       "      <td>50.000000</td>\n",
       "      <td>99.564907</td>\n",
       "      <td>15.712859</td>\n",
       "    </tr>\n",
       "    <tr>\n",
       "      <th>25%</th>\n",
       "      <td>84.000000</td>\n",
       "      <td>27.856252</td>\n",
       "      <td>89.000000</td>\n",
       "      <td>113.829145</td>\n",
       "      <td>29.591768</td>\n",
       "    </tr>\n",
       "    <tr>\n",
       "      <th>50%</th>\n",
       "      <td>100.000000</td>\n",
       "      <td>35.152727</td>\n",
       "      <td>101.000000</td>\n",
       "      <td>118.208698</td>\n",
       "      <td>32.734518</td>\n",
       "    </tr>\n",
       "    <tr>\n",
       "      <th>75%</th>\n",
       "      <td>140.000000</td>\n",
       "      <td>39.531633</td>\n",
       "      <td>113.000000</td>\n",
       "      <td>126.404312</td>\n",
       "      <td>37.392524</td>\n",
       "    </tr>\n",
       "    <tr>\n",
       "      <th>max</th>\n",
       "      <td>322.000000</td>\n",
       "      <td>53.700681</td>\n",
       "      <td>160.000000</td>\n",
       "      <td>169.598513</td>\n",
       "      <td>52.997752</td>\n",
       "    </tr>\n",
       "  </tbody>\n",
       "</table>\n",
       "</div>"
      ],
      "text/plain": [
       "               HP        MPG         VOL          SP         WT\n",
       "count   81.000000  81.000000   81.000000   81.000000  81.000000\n",
       "mean   117.469136  34.422076   98.765432  121.540272  32.412577\n",
       "std     57.113502   9.131445   22.301497   14.181432   7.492813\n",
       "min     49.000000  12.101263   50.000000   99.564907  15.712859\n",
       "25%     84.000000  27.856252   89.000000  113.829145  29.591768\n",
       "50%    100.000000  35.152727  101.000000  118.208698  32.734518\n",
       "75%    140.000000  39.531633  113.000000  126.404312  37.392524\n",
       "max    322.000000  53.700681  160.000000  169.598513  52.997752"
      ]
     },
     "execution_count": 106,
     "metadata": {},
     "output_type": "execute_result"
    }
   ],
   "source": [
    "cars.describe()"
   ]
  },
  {
   "cell_type": "code",
   "execution_count": 107,
   "id": "fbacb122",
   "metadata": {
    "ExecuteTime": {
     "end_time": "2022-03-02T10:07:51.811153Z",
     "start_time": "2022-03-02T10:07:51.763148Z"
    }
   },
   "outputs": [
    {
     "data": {
      "text/plain": [
       "0.3475939251582705"
      ]
     },
     "execution_count": 107,
     "metadata": {},
     "output_type": "execute_result"
    }
   ],
   "source": [
    "# P(MPG>38)\n",
    "1-stats.norm.cdf(38,cars.MPG.mean(),cars.MPG.std())"
   ]
  },
  {
   "cell_type": "code",
   "execution_count": 108,
   "id": "e2d46ad7",
   "metadata": {
    "ExecuteTime": {
     "end_time": "2022-03-02T10:08:11.316758Z",
     "start_time": "2022-03-02T10:08:11.292756Z"
    }
   },
   "outputs": [
    {
     "data": {
      "text/plain": [
       "0.7293498762151616"
      ]
     },
     "execution_count": 108,
     "metadata": {},
     "output_type": "execute_result"
    }
   ],
   "source": [
    "# P(MPG<40)\n",
    "stats.norm.cdf(40,cars.MPG.mean(),cars.MPG.std())"
   ]
  },
  {
   "cell_type": "code",
   "execution_count": 109,
   "id": "d77faaf8",
   "metadata": {
    "ExecuteTime": {
     "end_time": "2022-03-02T10:08:44.286118Z",
     "start_time": "2022-03-02T10:08:44.262120Z"
    }
   },
   "outputs": [
    {
     "data": {
      "text/plain": [
       "1.2430968797327613e-05"
      ]
     },
     "execution_count": 109,
     "metadata": {},
     "output_type": "execute_result"
    }
   ],
   "source": [
    "# P (20<MPG<50)\n",
    "stats.norm.cdf(0.50,cars.MPG.mean(),cars.MPG.std())-stats.norm.cdf(0.20,cars.MPG.mean(),cars.MPG.std())          "
   ]
  },
  {
   "cell_type": "code",
   "execution_count": null,
   "id": "d6787fc5",
   "metadata": {},
   "outputs": [],
   "source": [
    "#Q 21) Check whether the data follows normal distribution\n",
    "  #  a) Check whether the MPG of Cars follows Normal Distribution \n",
    "  #      Dataset: Cars.csv"
   ]
  },
  {
   "cell_type": "code",
   "execution_count": 49,
   "id": "75b8a32d",
   "metadata": {
    "ExecuteTime": {
     "end_time": "2022-03-02T09:26:02.692660Z",
     "start_time": "2022-03-02T09:26:01.875854Z"
    }
   },
   "outputs": [],
   "source": [
    "import numpy as np\n",
    "import pandas as pd\n",
    "import matplotlib.pyplot as plt\n",
    "import seaborn as sns\n",
    "%matplotlib inline"
   ]
  },
  {
   "cell_type": "code",
   "execution_count": 50,
   "id": "951411f1",
   "metadata": {
    "ExecuteTime": {
     "end_time": "2022-03-02T09:26:20.633838Z",
     "start_time": "2022-03-02T09:26:19.614163Z"
    }
   },
   "outputs": [
    {
     "name": "stderr",
     "output_type": "stream",
     "text": [
      "C:\\Users\\mrmri\\anaconda3\\lib\\site-packages\\seaborn\\distributions.py:2557: FutureWarning: `distplot` is a deprecated function and will be removed in a future version. Please adapt your code to use either `displot` (a figure-level function with similar flexibility) or `histplot` (an axes-level function for histograms).\n",
      "  warnings.warn(msg, FutureWarning)\n"
     ]
    },
    {
     "data": {
      "image/png": "[encoded data removed]",
      "text/plain": [
       "<Figure size 432x288 with 1 Axes>"
      ]
     },
     "metadata": {
      "needs_background": "light"
     },
     "output_type": "display_data"
    }
   ],
   "source": [
    "sns.distplot(cars.MPG, label='Cars-MPG')\n",
    "plt.xlabel('MPG')\n",
    "plt.ylabel('Density')\n",
    "plt.legend();"
   ]
  },
  {
   "cell_type": "code",
   "execution_count": 51,
   "id": "514879c4",
   "metadata": {
    "ExecuteTime": {
     "end_time": "2022-03-02T09:26:47.380259Z",
     "start_time": "2022-03-02T09:26:47.356264Z"
    }
   },
   "outputs": [
    {
     "data": {
      "text/plain": [
       "34.422075728024666"
      ]
     },
     "execution_count": 51,
     "metadata": {},
     "output_type": "execute_result"
    }
   ],
   "source": [
    "cars.MPG.mean()"
   ]
  },
  {
   "cell_type": "code",
   "execution_count": 52,
   "id": "52b18694",
   "metadata": {
    "ExecuteTime": {
     "end_time": "2022-03-02T09:26:56.707019Z",
     "start_time": "2022-03-02T09:26:56.675017Z"
    }
   },
   "outputs": [
    {
     "data": {
      "text/plain": [
       "35.15272697"
      ]
     },
     "execution_count": 52,
     "metadata": {},
     "output_type": "execute_result"
    }
   ],
   "source": [
    "cars.MPG.median()\n"
   ]
  },
  {
   "cell_type": "code",
   "execution_count": null,
   "id": "21ee3c25",
   "metadata": {},
   "outputs": [],
   "source": [
    "#Q21.b\n",
    "#  b) Check Whether the Adipose Tissue (AT) and Waist Circumference(Waist)  from wc-at data set  follows Normal Distribution \n",
    "#       Dataset: wc-at.csv"
   ]
  },
  {
   "cell_type": "code",
   "execution_count": 61,
   "id": "a3c75f2a",
   "metadata": {
    "ExecuteTime": {
     "end_time": "2022-03-02T09:33:10.153261Z",
     "start_time": "2022-03-02T09:33:10.105247Z"
    }
   },
   "outputs": [],
   "source": [
    "df1=pd.read_csv(\"C:\\\\Users\\\\mrmri\\\\Downloads\\\\Assignments Excelr\\\\Basic Statistics Level 01\\\\wc-at 1.csv\")"
   ]
  },
  {
   "cell_type": "code",
   "execution_count": 62,
   "id": "dde0d22f",
   "metadata": {
    "ExecuteTime": {
     "end_time": "2022-03-02T09:33:15.303857Z",
     "start_time": "2022-03-02T09:33:15.255839Z"
    }
   },
   "outputs": [
    {
     "data": {
      "text/html": [
       "<div>\n",
       "<style scoped>\n",
       "    .dataframe tbody tr th:only-of-type {\n",
       "        vertical-align: middle;\n",
       "    }\n",
       "\n",
       "    .dataframe tbody tr th {\n",
       "        vertical-align: top;\n",
       "    }\n",
       "\n",
       "    .dataframe thead th {\n",
       "        text-align: right;\n",
       "    }\n",
       "</style>\n",
       "<table border=\"1\" class=\"dataframe\">\n",
       "  <thead>\n",
       "    <tr style=\"text-align: right;\">\n",
       "      <th></th>\n",
       "      <th>Waist</th>\n",
       "      <th>AT</th>\n",
       "    </tr>\n",
       "  </thead>\n",
       "  <tbody>\n",
       "    <tr>\n",
       "      <th>0</th>\n",
       "      <td>74.75</td>\n",
       "      <td>25.72</td>\n",
       "    </tr>\n",
       "    <tr>\n",
       "      <th>1</th>\n",
       "      <td>72.60</td>\n",
       "      <td>25.89</td>\n",
       "    </tr>\n",
       "    <tr>\n",
       "      <th>2</th>\n",
       "      <td>81.80</td>\n",
       "      <td>42.60</td>\n",
       "    </tr>\n",
       "    <tr>\n",
       "      <th>3</th>\n",
       "      <td>83.95</td>\n",
       "      <td>42.80</td>\n",
       "    </tr>\n",
       "    <tr>\n",
       "      <th>4</th>\n",
       "      <td>74.65</td>\n",
       "      <td>29.84</td>\n",
       "    </tr>\n",
       "    <tr>\n",
       "      <th>...</th>\n",
       "      <td>...</td>\n",
       "      <td>...</td>\n",
       "    </tr>\n",
       "    <tr>\n",
       "      <th>104</th>\n",
       "      <td>100.10</td>\n",
       "      <td>124.00</td>\n",
       "    </tr>\n",
       "    <tr>\n",
       "      <th>105</th>\n",
       "      <td>93.30</td>\n",
       "      <td>62.20</td>\n",
       "    </tr>\n",
       "    <tr>\n",
       "      <th>106</th>\n",
       "      <td>101.80</td>\n",
       "      <td>133.00</td>\n",
       "    </tr>\n",
       "    <tr>\n",
       "      <th>107</th>\n",
       "      <td>107.90</td>\n",
       "      <td>208.00</td>\n",
       "    </tr>\n",
       "    <tr>\n",
       "      <th>108</th>\n",
       "      <td>108.50</td>\n",
       "      <td>208.00</td>\n",
       "    </tr>\n",
       "  </tbody>\n",
       "</table>\n",
       "<p>109 rows × 2 columns</p>\n",
       "</div>"
      ],
      "text/plain": [
       "      Waist      AT\n",
       "0     74.75   25.72\n",
       "1     72.60   25.89\n",
       "2     81.80   42.60\n",
       "3     83.95   42.80\n",
       "4     74.65   29.84\n",
       "..      ...     ...\n",
       "104  100.10  124.00\n",
       "105   93.30   62.20\n",
       "106  101.80  133.00\n",
       "107  107.90  208.00\n",
       "108  108.50  208.00\n",
       "\n",
       "[109 rows x 2 columns]"
      ]
     },
     "execution_count": 62,
     "metadata": {},
     "output_type": "execute_result"
    }
   ],
   "source": [
    "df1"
   ]
  },
  {
   "cell_type": "code",
   "execution_count": 72,
   "id": "0cca9775",
   "metadata": {
    "ExecuteTime": {
     "end_time": "2022-03-02T09:44:04.932587Z",
     "start_time": "2022-03-02T09:44:04.092493Z"
    }
   },
   "outputs": [
    {
     "name": "stderr",
     "output_type": "stream",
     "text": [
      "C:\\Users\\mrmri\\anaconda3\\lib\\site-packages\\seaborn\\distributions.py:2557: FutureWarning: `distplot` is a deprecated function and will be removed in a future version. Please adapt your code to use either `displot` (a figure-level function with similar flexibility) or `histplot` (an axes-level function for histograms).\n",
      "  warnings.warn(msg, FutureWarning)\n"
     ]
    },
    {
     "data": {
      "text/plain": [
       "Text(0, 0.5, 'Density')"
      ]
     },
     "execution_count": 72,
     "metadata": {},
     "output_type": "execute_result"
    },
    {
     "data": {
      "image/png": "[encoded data removed]",
      "text/plain": [
       "<Figure size 432x288 with 1 Axes>"
      ]
     },
     "metadata": {
      "needs_background": "light"
     },
     "output_type": "display_data"
    }
   ],
   "source": [
    "sns.distplot(df1.Waist)\n",
    "plt.ylabel('Density')\n"
   ]
  },
  {
   "cell_type": "code",
   "execution_count": 67,
   "id": "8843f17a",
   "metadata": {
    "ExecuteTime": {
     "end_time": "2022-03-02T09:36:59.665168Z",
     "start_time": "2022-03-02T09:36:59.633142Z"
    }
   },
   "outputs": [
    {
     "data": {
      "text/plain": [
       "Waist     91.901835\n",
       "AT       101.894037\n",
       "dtype: float64"
      ]
     },
     "execution_count": 67,
     "metadata": {},
     "output_type": "execute_result"
    }
   ],
   "source": [
    "df1.mean()"
   ]
  },
  {
   "cell_type": "code",
   "execution_count": 68,
   "id": "277b0cfb",
   "metadata": {
    "ExecuteTime": {
     "end_time": "2022-03-02T09:38:02.257913Z",
     "start_time": "2022-03-02T09:38:02.225910Z"
    }
   },
   "outputs": [
    {
     "data": {
      "text/plain": [
       "Waist    90.80\n",
       "AT       96.54\n",
       "dtype: float64"
      ]
     },
     "execution_count": 68,
     "metadata": {},
     "output_type": "execute_result"
    }
   ],
   "source": [
    "df1.median()"
   ]
  },
  {
   "cell_type": "code",
   "execution_count": 74,
   "id": "dd76f93d",
   "metadata": {
    "ExecuteTime": {
     "end_time": "2022-03-02T09:44:27.802418Z",
     "start_time": "2022-03-02T09:44:27.091665Z"
    }
   },
   "outputs": [
    {
     "name": "stderr",
     "output_type": "stream",
     "text": [
      "C:\\Users\\mrmri\\anaconda3\\lib\\site-packages\\seaborn\\distributions.py:2557: FutureWarning: `distplot` is a deprecated function and will be removed in a future version. Please adapt your code to use either `displot` (a figure-level function with similar flexibility) or `histplot` (an axes-level function for histograms).\n",
      "  warnings.warn(msg, FutureWarning)\n"
     ]
    },
    {
     "data": {
      "text/plain": [
       "Text(0, 0.5, 'Density')"
      ]
     },
     "execution_count": 74,
     "metadata": {},
     "output_type": "execute_result"
    },
    {
     "data": {
      "image/png": "[encoded data removed]",
      "text/plain": [
       "<Figure size 432x288 with 1 Axes>"
      ]
     },
     "metadata": {
      "needs_background": "light"
     },
     "output_type": "display_data"
    }
   ],
   "source": [
    "sns.distplot(df1.AT)\n",
    "plt.ylabel('Density')\n"
   ]
  },
  {
   "cell_type": "code",
   "execution_count": null,
   "id": "cf5f286b",
   "metadata": {},
   "outputs": [],
   "source": [
    "#Q 22) Calculate the Z scores of  90% confidence interval,94% confidence interval, 60% confidence interval "
   ]
  },
  {
   "cell_type": "code",
   "execution_count": 75,
   "id": "0631668b",
   "metadata": {
    "ExecuteTime": {
     "end_time": "2022-03-02T09:46:43.591161Z",
     "start_time": "2022-03-02T09:46:43.559152Z"
    }
   },
   "outputs": [
    {
     "data": {
      "text/plain": [
       "1.6448536269514722"
      ]
     },
     "execution_count": 75,
     "metadata": {},
     "output_type": "execute_result"
    }
   ],
   "source": [
    "# Z-score of 90% confidence interval \n",
    "stats.norm.ppf(0.95)"
   ]
  },
  {
   "cell_type": "code",
   "execution_count": 77,
   "id": "86bd8ef8",
   "metadata": {
    "ExecuteTime": {
     "end_time": "2022-03-02T09:47:48.249422Z",
     "start_time": "2022-03-02T09:47:48.233417Z"
    }
   },
   "outputs": [
    {
     "data": {
      "text/plain": [
       "1.8807936081512509"
      ]
     },
     "execution_count": 77,
     "metadata": {},
     "output_type": "execute_result"
    }
   ],
   "source": [
    "# Z-score of 94% confidence interval \n",
    "stats.norm.ppf(0.97)"
   ]
  },
  {
   "cell_type": "code",
   "execution_count": 78,
   "id": "e8788e8f",
   "metadata": {
    "ExecuteTime": {
     "end_time": "2022-03-02T09:48:11.655743Z",
     "start_time": "2022-03-02T09:48:11.623761Z"
    }
   },
   "outputs": [
    {
     "data": {
      "text/plain": [
       "0.8416212335729143"
      ]
     },
     "execution_count": 78,
     "metadata": {},
     "output_type": "execute_result"
    }
   ],
   "source": [
    "# Z-score of 60% confidence interval \n",
    "stats.norm.ppf(0.8)"
   ]
  },
  {
   "cell_type": "code",
   "execution_count": null,
   "id": "2ede3a68",
   "metadata": {},
   "outputs": [],
   "source": [
    "#Q 23) Calculate the t scores of 95% confidence interval, 96% confidence interval, 99% confidence interval for sample size of 25"
   ]
  },
  {
   "cell_type": "code",
   "execution_count": 79,
   "id": "36f918aa",
   "metadata": {
    "ExecuteTime": {
     "end_time": "2022-03-02T09:54:39.419687Z",
     "start_time": "2022-03-02T09:54:39.363676Z"
    }
   },
   "outputs": [
    {
     "data": {
      "text/plain": [
       "2.0638985616280205"
      ]
     },
     "execution_count": 79,
     "metadata": {},
     "output_type": "execute_result"
    }
   ],
   "source": [
    "# t scores of 95% confidence interval for sample size of 25\n",
    "stats.t.ppf(0.975,24)  # df = n-1 = 24"
   ]
  },
  {
   "cell_type": "code",
   "execution_count": 80,
   "id": "78f2dbfd",
   "metadata": {
    "ExecuteTime": {
     "end_time": "2022-03-02T09:54:55.277983Z",
     "start_time": "2022-03-02T09:54:55.261964Z"
    }
   },
   "outputs": [
    {
     "data": {
      "text/plain": [
       "2.1715446760080677"
      ]
     },
     "execution_count": 80,
     "metadata": {},
     "output_type": "execute_result"
    }
   ],
   "source": [
    "# t scores of 96% confidence interval for sample size of 25\n",
    "stats.t.ppf(0.98,24)\n"
   ]
  },
  {
   "cell_type": "code",
   "execution_count": 81,
   "id": "5674395d",
   "metadata": {
    "ExecuteTime": {
     "end_time": "2022-03-02T09:55:02.249022Z",
     "start_time": "2022-03-02T09:55:02.233028Z"
    }
   },
   "outputs": [
    {
     "data": {
      "text/plain": [
       "2.796939504772804"
      ]
     },
     "execution_count": 81,
     "metadata": {},
     "output_type": "execute_result"
    }
   ],
   "source": [
    "# t scores of 99% confidence interval for sample size of 25\n",
    "stats.t.ppf(0.995,24)"
   ]
  },
  {
   "cell_type": "code",
   "execution_count": null,
   "id": "be0292c6",
   "metadata": {},
   "outputs": [],
   "source": [
    "# Q 24)   A Government  company claims that an average light bulb lasts 270 days. A researcher randomly selects 18 bulbs for testing. The sampled bulbs last an average of 260 days, with a standard deviation of 90 days. If the CEO's claim were true, what is the probability that 18 randomly selected bulbs would have an average life of no more than 260 days\n",
    "#Hint:  \n",
    " #  rcode   pt(tscore,df)  \n",
    " #df  degrees of freedom"
   ]
  },
  {
   "cell_type": "code",
   "execution_count": 110,
   "id": "22fb6085",
   "metadata": {
    "ExecuteTime": {
     "end_time": "2022-03-02T10:13:55.668695Z",
     "start_time": "2022-03-02T10:13:55.660695Z"
    }
   },
   "outputs": [],
   "source": [
    "#Ho=avg life of buld>260 days\n",
    "#Hi= avg life of bulb<260 days"
   ]
  },
  {
   "cell_type": "code",
   "execution_count": 111,
   "id": "27fb91af",
   "metadata": {
    "ExecuteTime": {
     "end_time": "2022-03-02T10:13:59.097506Z",
     "start_time": "2022-03-02T10:13:59.081500Z"
    }
   },
   "outputs": [
    {
     "data": {
      "text/plain": [
       "-0.4714045207910317"
      ]
     },
     "execution_count": 111,
     "metadata": {},
     "output_type": "execute_result"
    }
   ],
   "source": [
    "# find t-scores at x=260; t=(s_mean-P_mean)/(s_SD/sqrt(n))\n",
    "t=(260-270)/(90/18**0.5)\n",
    "t"
   ]
  },
  {
   "cell_type": "code",
   "execution_count": 112,
   "id": "ce4fec00",
   "metadata": {
    "ExecuteTime": {
     "end_time": "2022-03-02T10:14:11.311360Z",
     "start_time": "2022-03-02T10:14:11.287343Z"
    }
   },
   "outputs": [
    {
     "data": {
      "text/plain": [
       "0.32167411684460556"
      ]
     },
     "execution_count": 112,
     "metadata": {},
     "output_type": "execute_result"
    }
   ],
   "source": [
    "# Find P(X>=260) for null hypothesis\n",
    "# p_value=1-stats.t.cdf(abs(t_scores),df=n-1)... Using cdf function\n",
    "p_value=1-stats.t.cdf(abs(-0.4714),df=17)\n",
    "p_value"
   ]
  }
 ],
 "metadata": {
  "kernelspec": {
   "display_name": "Python 3",
   "language": "python",
   "name": "python3"
  },
  "language_info": {
   "codemirror_mode": {
    "name": "ipython",
    "version": 3
   },
   "file_extension": ".py",
   "mimetype": "text/x-python",
   "name": "python",
   "nbconvert_exporter": "python",
   "pygments_lexer": "ipython3",
   "version": "3.8.8"
  },
  "latex_envs": {
   "LaTeX_envs_menu_present": true,
   "autoclose": false,
   "autocomplete": true,
   "bibliofile": "biblio.bib",
   "cite_by": "apalike",
   "current_citInitial": 1,
   "eqLabelWithNumbers": true,
   "eqNumInitial": 1,
   "hotkeys": {
    "equation": "Ctrl-E",
    "itemize": "Ctrl-I"
   },
   "labels_anchors": false,
   "latex_user_defs": false,
   "report_style_numbering": false,
   "user_envs_cfg": false
  },
  "nbTranslate": {
   "displayLangs": [
    "*"
   ],
   "hotkey": "alt-t",
   "langInMainMenu": true,
   "sourceLang": "en",
   "targetLang": "fr",
   "useGoogleTranslate": true
  },
  "toc": {
   "base_numbering": 1,
   "nav_menu": {},
   "number_sections": true,
   "sideBar": true,
   "skip_h1_title": false,
   "title_cell": "Table of Contents",
   "title_sidebar": "Contents",
   "toc_cell": false,
   "toc_position": {},
   "toc_section_display": true,
   "toc_window_display": false
  },
  "varInspector": {
   "cols": {
    "lenName": 16,
    "lenType": 16,
    "lenVar": 40
   },
   "kernels_config": {
    "python": {
     "delete_cmd_postfix": "",
     "delete_cmd_prefix": "del ",
     "library": "var_list.py",
     "varRefreshCmd": "print(var_dic_list())"
    },
    "r": {
     "delete_cmd_postfix": ") ",
     "delete_cmd_prefix": "rm(",
     "library": "var_list.r",
     "varRefreshCmd": "cat(var_dic_list()) "
    }
   },
   "types_to_exclude": [
    "module",
    "function",
    "builtin_function_or_method",
    "instance",
    "_Feature"
   ],
   "window_display": false
  }
 },
 "nbformat": 4,
 "nbformat_minor": 5
}
