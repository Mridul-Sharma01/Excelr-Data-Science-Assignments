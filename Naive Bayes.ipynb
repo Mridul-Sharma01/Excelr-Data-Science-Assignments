{
 "cells": [
  {
   "cell_type": "markdown",
   "id": "5e5bf71f",
   "metadata": {},
   "source": [
    "# Naive Bayes"
   ]
  },
  {
   "cell_type": "code",
   "execution_count": 5,
   "id": "947f8311",
   "metadata": {
    "ExecuteTime": {
     "end_time": "2022-04-27T06:47:41.250341Z",
     "start_time": "2022-04-27T06:47:32.035023Z"
    }
   },
   "outputs": [],
   "source": [
    "import numpy as np\n",
    "import pandas as pd\n",
    "import matplotlib.pyplot as plt"
   ]
  },
  {
   "cell_type": "code",
   "execution_count": 6,
   "id": "deb64ced",
   "metadata": {
    "ExecuteTime": {
     "end_time": "2022-04-27T06:47:41.809484Z",
     "start_time": "2022-04-27T06:47:41.266350Z"
    }
   },
   "outputs": [],
   "source": [
    "salary_train=pd.read_csv(r\"C:\\Users\\mrmri\\Downloads\\Assignments Excelr\\Naive Bayes\\SalaryData_Train.csv\")\n",
    "salary_test=pd.read_csv(r\"C:\\Users\\mrmri\\Downloads\\Assignments Excelr\\Naive Bayes\\SalaryData_Test.csv\")"
   ]
  },
  {
   "cell_type": "code",
   "execution_count": 7,
   "id": "30603dd6",
   "metadata": {
    "ExecuteTime": {
     "end_time": "2022-04-27T06:47:41.854497Z",
     "start_time": "2022-04-27T06:47:41.821491Z"
    }
   },
   "outputs": [
    {
     "data": {
      "text/plain": [
       "Index(['age', 'workclass', 'education', 'educationno', 'maritalstatus',\n",
       "       'occupation', 'relationship', 'race', 'sex', 'capitalgain',\n",
       "       'capitalloss', 'hoursperweek', 'native', 'Salary'],\n",
       "      dtype='object')"
      ]
     },
     "execution_count": 7,
     "metadata": {},
     "output_type": "execute_result"
    }
   ],
   "source": [
    "salary_test.columns"
   ]
  },
  {
   "cell_type": "code",
   "execution_count": 8,
   "id": "8d40de64",
   "metadata": {
    "ExecuteTime": {
     "end_time": "2022-04-27T06:47:41.903509Z",
     "start_time": "2022-04-27T06:47:41.866505Z"
    }
   },
   "outputs": [
    {
     "data": {
      "text/plain": [
       "Index(['age', 'workclass', 'education', 'educationno', 'maritalstatus',\n",
       "       'occupation', 'relationship', 'race', 'sex', 'capitalgain',\n",
       "       'capitalloss', 'hoursperweek', 'native', 'Salary'],\n",
       "      dtype='object')"
      ]
     },
     "execution_count": 8,
     "metadata": {},
     "output_type": "execute_result"
    }
   ],
   "source": [
    "salary_train.columns"
   ]
  },
  {
   "cell_type": "code",
   "execution_count": 25,
   "id": "b3866983",
   "metadata": {
    "ExecuteTime": {
     "end_time": "2022-04-27T07:03:12.550457Z",
     "start_time": "2022-04-27T07:03:12.535460Z"
    }
   },
   "outputs": [],
   "source": [
    "string_columns=['workclass','education','maritalstatus','occupation','relationship','race','sex','native']"
   ]
  },
  {
   "cell_type": "code",
   "execution_count": 26,
   "id": "f8b5e8a7",
   "metadata": {
    "ExecuteTime": {
     "end_time": "2022-04-27T07:03:14.443538Z",
     "start_time": "2022-04-27T07:03:14.085469Z"
    }
   },
   "outputs": [],
   "source": [
    "from sklearn import preprocessing\n",
    "label_encoder=preprocessing.LabelEncoder()\n",
    "for i in string_columns:\n",
    "    salary_train[i]=label_encoder.fit_transform(salary_train[i])\n",
    "    salary_test[i]=label_encoder.fit_transform(salary_test[i])"
   ]
  },
  {
   "cell_type": "code",
   "execution_count": 28,
   "id": "b1584326",
   "metadata": {
    "ExecuteTime": {
     "end_time": "2022-04-27T07:04:42.202301Z",
     "start_time": "2022-04-27T07:04:42.190332Z"
    }
   },
   "outputs": [],
   "source": [
    "col_names=list(salary_train.columns)"
   ]
  },
  {
   "cell_type": "code",
   "execution_count": 29,
   "id": "5ab9f59a",
   "metadata": {
    "ExecuteTime": {
     "end_time": "2022-04-27T07:05:05.646277Z",
     "start_time": "2022-04-27T07:05:05.593265Z"
    }
   },
   "outputs": [],
   "source": [
    "train_X=salary_train[col_names[0:13]]\n",
    "train_Y=salary_train[col_names[13]]\n",
    "test_x=salary_test[col_names[0:13]]\n",
    "test_y=salary_test[col_names[13]]"
   ]
  },
  {
   "cell_type": "markdown",
   "id": "571c89e2",
   "metadata": {},
   "source": [
    "### Gaussian Naive Bayes"
   ]
  },
  {
   "cell_type": "code",
   "execution_count": 30,
   "id": "4668bd67",
   "metadata": {
    "ExecuteTime": {
     "end_time": "2022-04-27T07:06:07.386295Z",
     "start_time": "2022-04-27T07:06:07.355283Z"
    }
   },
   "outputs": [],
   "source": [
    "from sklearn.naive_bayes import GaussianNB\n",
    "Gmodel=GaussianNB()"
   ]
  },
  {
   "cell_type": "code",
   "execution_count": 31,
   "id": "8ecae2dc",
   "metadata": {
    "ExecuteTime": {
     "end_time": "2022-04-27T07:06:19.987257Z",
     "start_time": "2022-04-27T07:06:19.509149Z"
    }
   },
   "outputs": [],
   "source": [
    "train_pred_gau=Gmodel.fit(train_X,train_Y).predict(train_X)\n",
    "test_pred_gau=Gmodel.fit(train_X,train_Y).predict(test_x)"
   ]
  },
  {
   "cell_type": "code",
   "execution_count": 32,
   "id": "521a13fe",
   "metadata": {
    "ExecuteTime": {
     "end_time": "2022-04-27T07:06:32.998144Z",
     "start_time": "2022-04-27T07:06:32.964160Z"
    }
   },
   "outputs": [],
   "source": [
    "train_acc_gau=np.mean(train_pred_gau==train_Y)\n",
    "test_acc_gau=np.mean(test_pred_gau==test_y)"
   ]
  },
  {
   "cell_type": "code",
   "execution_count": 33,
   "id": "d4f4d01c",
   "metadata": {
    "ExecuteTime": {
     "end_time": "2022-04-27T07:06:41.354118Z",
     "start_time": "2022-04-27T07:06:41.331111Z"
    }
   },
   "outputs": [
    {
     "data": {
      "text/plain": [
       "0.7953317197705646"
      ]
     },
     "execution_count": 33,
     "metadata": {},
     "output_type": "execute_result"
    }
   ],
   "source": [
    "train_acc_gau"
   ]
  },
  {
   "cell_type": "markdown",
   "id": "e164921f",
   "metadata": {
    "ExecuteTime": {
     "end_time": "2022-04-27T07:06:49.385978Z",
     "start_time": "2022-04-27T07:06:49.361975Z"
    }
   },
   "source": [
    "### Multinomial Naive Bayes"
   ]
  },
  {
   "cell_type": "code",
   "execution_count": 35,
   "id": "25aeac0d",
   "metadata": {
    "ExecuteTime": {
     "end_time": "2022-04-27T07:07:49.326801Z",
     "start_time": "2022-04-27T07:07:49.308791Z"
    }
   },
   "outputs": [],
   "source": [
    "from sklearn.naive_bayes import MultinomialNB\n",
    "Mmodel=MultinomialNB()"
   ]
  },
  {
   "cell_type": "code",
   "execution_count": 36,
   "id": "5cb13bf3",
   "metadata": {
    "ExecuteTime": {
     "end_time": "2022-04-27T07:08:01.971135Z",
     "start_time": "2022-04-27T07:08:01.300984Z"
    }
   },
   "outputs": [],
   "source": [
    "train_pred_multi=Mmodel.fit(train_X,train_Y).predict(train_X)\n",
    "test_pred_multi=Mmodel.fit(train_X,train_Y).predict(test_x)"
   ]
  },
  {
   "cell_type": "code",
   "execution_count": 37,
   "id": "c18b38e0",
   "metadata": {
    "ExecuteTime": {
     "end_time": "2022-04-27T07:08:14.606992Z",
     "start_time": "2022-04-27T07:08:14.571977Z"
    }
   },
   "outputs": [],
   "source": [
    "train_acc_multi=np.mean(train_pred_multi==train_Y)\n",
    "test_acc_multi=np.mean(test_pred_multi==test_y)"
   ]
  },
  {
   "cell_type": "code",
   "execution_count": 38,
   "id": "417768a7",
   "metadata": {
    "ExecuteTime": {
     "end_time": "2022-04-27T07:08:22.951954Z",
     "start_time": "2022-04-27T07:08:22.922947Z"
    }
   },
   "outputs": [
    {
     "data": {
      "text/plain": [
       "0.7729186698053778"
      ]
     },
     "execution_count": 38,
     "metadata": {},
     "output_type": "execute_result"
    }
   ],
   "source": [
    "train_acc_multi"
   ]
  },
  {
   "cell_type": "code",
   "execution_count": null,
   "id": "4d15df76",
   "metadata": {},
   "outputs": [],
   "source": []
  }
 ],
 "metadata": {
  "kernelspec": {
   "display_name": "Python 3 (ipykernel)",
   "language": "python",
   "name": "python3"
  },
  "language_info": {
   "codemirror_mode": {
    "name": "ipython",
    "version": 3
   },
   "file_extension": ".py",
   "mimetype": "text/x-python",
   "name": "python",
   "nbconvert_exporter": "python",
   "pygments_lexer": "ipython3",
   "version": "3.9.7"
  },
  "latex_envs": {
   "LaTeX_envs_menu_present": true,
   "autoclose": false,
   "autocomplete": true,
   "bibliofile": "biblio.bib",
   "cite_by": "apalike",
   "current_citInitial": 1,
   "eqLabelWithNumbers": true,
   "eqNumInitial": 1,
   "hotkeys": {
    "equation": "Ctrl-E",
    "itemize": "Ctrl-I"
   },
   "labels_anchors": false,
   "latex_user_defs": false,
   "report_style_numbering": false,
   "user_envs_cfg": false
  },
  "nbTranslate": {
   "displayLangs": [
    "*"
   ],
   "hotkey": "alt-t",
   "langInMainMenu": true,
   "sourceLang": "en",
   "targetLang": "fr",
   "useGoogleTranslate": true
  },
  "toc": {
   "base_numbering": 1,
   "nav_menu": {},
   "number_sections": true,
   "sideBar": true,
   "skip_h1_title": false,
   "title_cell": "Table of Contents",
   "title_sidebar": "Contents",
   "toc_cell": false,
   "toc_position": {},
   "toc_section_display": true,
   "toc_window_display": false
  },
  "varInspector": {
   "cols": {
    "lenName": 16,
    "lenType": 16,
    "lenVar": 40
   },
   "kernels_config": {
    "python": {
     "delete_cmd_postfix": "",
     "delete_cmd_prefix": "del ",
     "library": "var_list.py",
     "varRefreshCmd": "print(var_dic_list())"
    },
    "r": {
     "delete_cmd_postfix": ") ",
     "delete_cmd_prefix": "rm(",
     "library": "var_list.r",
     "varRefreshCmd": "cat(var_dic_list()) "
    }
   },
   "types_to_exclude": [
    "module",
    "function",
    "builtin_function_or_method",
    "instance",
    "_Feature"
   ],
   "window_display": false
  }
 },
 "nbformat": 4,
 "nbformat_minor": 5
}
